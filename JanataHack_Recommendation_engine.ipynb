{
  "nbformat": 4,
  "nbformat_minor": 0,
  "metadata": {
    "colab": {
      "name": "JanataHack Recommendation engine.ipynb",
      "provenance": [],
      "toc_visible": true
    },
    "kernelspec": {
      "name": "python3",
      "display_name": "Python 3"
    },
    "widgets": {
      "application/vnd.jupyter.widget-state+json": {
        "8c57b15c56f44f109798f14f42b92db0": {
          "model_module": "@jupyter-widgets/controls",
          "model_name": "HBoxModel",
          "state": {
            "_view_name": "HBoxView",
            "_dom_classes": [],
            "_model_name": "HBoxModel",
            "_view_module": "@jupyter-widgets/controls",
            "_model_module_version": "1.5.0",
            "_view_count": null,
            "_view_module_version": "1.5.0",
            "box_style": "",
            "layout": "IPY_MODEL_ef2fe85214ea418db23b3ebf66dcd890",
            "_model_module": "@jupyter-widgets/controls",
            "children": [
              "IPY_MODEL_dd5810f2571b4deeb2d7839c2fe42a54",
              "IPY_MODEL_223b7fe2c01c41cc81b40f38b98ece79"
            ]
          }
        },
        "ef2fe85214ea418db23b3ebf66dcd890": {
          "model_module": "@jupyter-widgets/base",
          "model_name": "LayoutModel",
          "state": {
            "_view_name": "LayoutView",
            "grid_template_rows": null,
            "right": null,
            "justify_content": null,
            "_view_module": "@jupyter-widgets/base",
            "overflow": null,
            "_model_module_version": "1.2.0",
            "_view_count": null,
            "flex_flow": null,
            "width": null,
            "min_width": null,
            "border": null,
            "align_items": null,
            "bottom": null,
            "_model_module": "@jupyter-widgets/base",
            "top": null,
            "grid_column": null,
            "overflow_y": null,
            "overflow_x": null,
            "grid_auto_flow": null,
            "grid_area": null,
            "grid_template_columns": null,
            "flex": null,
            "_model_name": "LayoutModel",
            "justify_items": null,
            "grid_row": null,
            "max_height": null,
            "align_content": null,
            "visibility": null,
            "align_self": null,
            "height": null,
            "min_height": null,
            "padding": null,
            "grid_auto_rows": null,
            "grid_gap": null,
            "max_width": null,
            "order": null,
            "_view_module_version": "1.2.0",
            "grid_template_areas": null,
            "object_position": null,
            "object_fit": null,
            "grid_auto_columns": null,
            "margin": null,
            "display": null,
            "left": null
          }
        },
        "dd5810f2571b4deeb2d7839c2fe42a54": {
          "model_module": "@jupyter-widgets/controls",
          "model_name": "FloatProgressModel",
          "state": {
            "_view_name": "ProgressView",
            "style": "IPY_MODEL_9d8b034c8b9d4312948a3772d4d53da6",
            "_dom_classes": [],
            "description": "100%",
            "_model_name": "FloatProgressModel",
            "bar_style": "success",
            "max": 39732,
            "_view_module": "@jupyter-widgets/controls",
            "_model_module_version": "1.5.0",
            "value": 39732,
            "_view_count": null,
            "_view_module_version": "1.5.0",
            "orientation": "horizontal",
            "min": 0,
            "description_tooltip": null,
            "_model_module": "@jupyter-widgets/controls",
            "layout": "IPY_MODEL_45c9d808c3c24bc8bec3edf4606ffc85"
          }
        },
        "223b7fe2c01c41cc81b40f38b98ece79": {
          "model_module": "@jupyter-widgets/controls",
          "model_name": "HTMLModel",
          "state": {
            "_view_name": "HTMLView",
            "style": "IPY_MODEL_eae4f03964f84acf850c36afd80a5337",
            "_dom_classes": [],
            "description": "",
            "_model_name": "HTMLModel",
            "placeholder": "​",
            "_view_module": "@jupyter-widgets/controls",
            "_model_module_version": "1.5.0",
            "value": " 39732/39732 [10:24&lt;00:00, 63.61it/s]",
            "_view_count": null,
            "_view_module_version": "1.5.0",
            "description_tooltip": null,
            "_model_module": "@jupyter-widgets/controls",
            "layout": "IPY_MODEL_2ef2633cd35d4587950be70c7b277a1d"
          }
        },
        "9d8b034c8b9d4312948a3772d4d53da6": {
          "model_module": "@jupyter-widgets/controls",
          "model_name": "ProgressStyleModel",
          "state": {
            "_view_name": "StyleView",
            "_model_name": "ProgressStyleModel",
            "description_width": "initial",
            "_view_module": "@jupyter-widgets/base",
            "_model_module_version": "1.5.0",
            "_view_count": null,
            "_view_module_version": "1.2.0",
            "bar_color": null,
            "_model_module": "@jupyter-widgets/controls"
          }
        },
        "45c9d808c3c24bc8bec3edf4606ffc85": {
          "model_module": "@jupyter-widgets/base",
          "model_name": "LayoutModel",
          "state": {
            "_view_name": "LayoutView",
            "grid_template_rows": null,
            "right": null,
            "justify_content": null,
            "_view_module": "@jupyter-widgets/base",
            "overflow": null,
            "_model_module_version": "1.2.0",
            "_view_count": null,
            "flex_flow": null,
            "width": null,
            "min_width": null,
            "border": null,
            "align_items": null,
            "bottom": null,
            "_model_module": "@jupyter-widgets/base",
            "top": null,
            "grid_column": null,
            "overflow_y": null,
            "overflow_x": null,
            "grid_auto_flow": null,
            "grid_area": null,
            "grid_template_columns": null,
            "flex": null,
            "_model_name": "LayoutModel",
            "justify_items": null,
            "grid_row": null,
            "max_height": null,
            "align_content": null,
            "visibility": null,
            "align_self": null,
            "height": null,
            "min_height": null,
            "padding": null,
            "grid_auto_rows": null,
            "grid_gap": null,
            "max_width": null,
            "order": null,
            "_view_module_version": "1.2.0",
            "grid_template_areas": null,
            "object_position": null,
            "object_fit": null,
            "grid_auto_columns": null,
            "margin": null,
            "display": null,
            "left": null
          }
        },
        "eae4f03964f84acf850c36afd80a5337": {
          "model_module": "@jupyter-widgets/controls",
          "model_name": "DescriptionStyleModel",
          "state": {
            "_view_name": "StyleView",
            "_model_name": "DescriptionStyleModel",
            "description_width": "",
            "_view_module": "@jupyter-widgets/base",
            "_model_module_version": "1.5.0",
            "_view_count": null,
            "_view_module_version": "1.2.0",
            "_model_module": "@jupyter-widgets/controls"
          }
        },
        "2ef2633cd35d4587950be70c7b277a1d": {
          "model_module": "@jupyter-widgets/base",
          "model_name": "LayoutModel",
          "state": {
            "_view_name": "LayoutView",
            "grid_template_rows": null,
            "right": null,
            "justify_content": null,
            "_view_module": "@jupyter-widgets/base",
            "overflow": null,
            "_model_module_version": "1.2.0",
            "_view_count": null,
            "flex_flow": null,
            "width": null,
            "min_width": null,
            "border": null,
            "align_items": null,
            "bottom": null,
            "_model_module": "@jupyter-widgets/base",
            "top": null,
            "grid_column": null,
            "overflow_y": null,
            "overflow_x": null,
            "grid_auto_flow": null,
            "grid_area": null,
            "grid_template_columns": null,
            "flex": null,
            "_model_name": "LayoutModel",
            "justify_items": null,
            "grid_row": null,
            "max_height": null,
            "align_content": null,
            "visibility": null,
            "align_self": null,
            "height": null,
            "min_height": null,
            "padding": null,
            "grid_auto_rows": null,
            "grid_gap": null,
            "max_width": null,
            "order": null,
            "_view_module_version": "1.2.0",
            "grid_template_areas": null,
            "object_position": null,
            "object_fit": null,
            "grid_auto_columns": null,
            "margin": null,
            "display": null,
            "left": null
          }
        },
        "16964dae52a84279a92e4fead021ca6e": {
          "model_module": "@jupyter-widgets/controls",
          "model_name": "HBoxModel",
          "state": {
            "_view_name": "HBoxView",
            "_dom_classes": [],
            "_model_name": "HBoxModel",
            "_view_module": "@jupyter-widgets/controls",
            "_model_module_version": "1.5.0",
            "_view_count": null,
            "_view_module_version": "1.5.0",
            "box_style": "",
            "layout": "IPY_MODEL_ffc8f1c632de4848879497b4dd975e55",
            "_model_module": "@jupyter-widgets/controls",
            "children": [
              "IPY_MODEL_5206e6eb36684a1cb4cfc024586afb6a",
              "IPY_MODEL_747c816ce4d64da8a4e3cd740d449bb5"
            ]
          }
        },
        "ffc8f1c632de4848879497b4dd975e55": {
          "model_module": "@jupyter-widgets/base",
          "model_name": "LayoutModel",
          "state": {
            "_view_name": "LayoutView",
            "grid_template_rows": null,
            "right": null,
            "justify_content": null,
            "_view_module": "@jupyter-widgets/base",
            "overflow": null,
            "_model_module_version": "1.2.0",
            "_view_count": null,
            "flex_flow": null,
            "width": null,
            "min_width": null,
            "border": null,
            "align_items": null,
            "bottom": null,
            "_model_module": "@jupyter-widgets/base",
            "top": null,
            "grid_column": null,
            "overflow_y": null,
            "overflow_x": null,
            "grid_auto_flow": null,
            "grid_area": null,
            "grid_template_columns": null,
            "flex": null,
            "_model_name": "LayoutModel",
            "justify_items": null,
            "grid_row": null,
            "max_height": null,
            "align_content": null,
            "visibility": null,
            "align_self": null,
            "height": null,
            "min_height": null,
            "padding": null,
            "grid_auto_rows": null,
            "grid_gap": null,
            "max_width": null,
            "order": null,
            "_view_module_version": "1.2.0",
            "grid_template_areas": null,
            "object_position": null,
            "object_fit": null,
            "grid_auto_columns": null,
            "margin": null,
            "display": null,
            "left": null
          }
        },
        "5206e6eb36684a1cb4cfc024586afb6a": {
          "model_module": "@jupyter-widgets/controls",
          "model_name": "FloatProgressModel",
          "state": {
            "_view_name": "ProgressView",
            "style": "IPY_MODEL_c5862d90fb0f439383f44cb0bee7c3ad",
            "_dom_classes": [],
            "description": "100%",
            "_model_name": "FloatProgressModel",
            "bar_style": "success",
            "max": 39732,
            "_view_module": "@jupyter-widgets/controls",
            "_model_module_version": "1.5.0",
            "value": 39732,
            "_view_count": null,
            "_view_module_version": "1.5.0",
            "orientation": "horizontal",
            "min": 0,
            "description_tooltip": null,
            "_model_module": "@jupyter-widgets/controls",
            "layout": "IPY_MODEL_d24567dc56884e3d8f9647ec0324a9b4"
          }
        },
        "747c816ce4d64da8a4e3cd740d449bb5": {
          "model_module": "@jupyter-widgets/controls",
          "model_name": "HTMLModel",
          "state": {
            "_view_name": "HTMLView",
            "style": "IPY_MODEL_a5d48092a70f4a6fb5cca6bbf48b39fe",
            "_dom_classes": [],
            "description": "",
            "_model_name": "HTMLModel",
            "placeholder": "​",
            "_view_module": "@jupyter-widgets/controls",
            "_model_module_version": "1.5.0",
            "value": " 39732/39732 [02:33&lt;00:00, 259.29it/s]",
            "_view_count": null,
            "_view_module_version": "1.5.0",
            "description_tooltip": null,
            "_model_module": "@jupyter-widgets/controls",
            "layout": "IPY_MODEL_724a9c77bcef4df19a143c18a8321972"
          }
        },
        "c5862d90fb0f439383f44cb0bee7c3ad": {
          "model_module": "@jupyter-widgets/controls",
          "model_name": "ProgressStyleModel",
          "state": {
            "_view_name": "StyleView",
            "_model_name": "ProgressStyleModel",
            "description_width": "initial",
            "_view_module": "@jupyter-widgets/base",
            "_model_module_version": "1.5.0",
            "_view_count": null,
            "_view_module_version": "1.2.0",
            "bar_color": null,
            "_model_module": "@jupyter-widgets/controls"
          }
        },
        "d24567dc56884e3d8f9647ec0324a9b4": {
          "model_module": "@jupyter-widgets/base",
          "model_name": "LayoutModel",
          "state": {
            "_view_name": "LayoutView",
            "grid_template_rows": null,
            "right": null,
            "justify_content": null,
            "_view_module": "@jupyter-widgets/base",
            "overflow": null,
            "_model_module_version": "1.2.0",
            "_view_count": null,
            "flex_flow": null,
            "width": null,
            "min_width": null,
            "border": null,
            "align_items": null,
            "bottom": null,
            "_model_module": "@jupyter-widgets/base",
            "top": null,
            "grid_column": null,
            "overflow_y": null,
            "overflow_x": null,
            "grid_auto_flow": null,
            "grid_area": null,
            "grid_template_columns": null,
            "flex": null,
            "_model_name": "LayoutModel",
            "justify_items": null,
            "grid_row": null,
            "max_height": null,
            "align_content": null,
            "visibility": null,
            "align_self": null,
            "height": null,
            "min_height": null,
            "padding": null,
            "grid_auto_rows": null,
            "grid_gap": null,
            "max_width": null,
            "order": null,
            "_view_module_version": "1.2.0",
            "grid_template_areas": null,
            "object_position": null,
            "object_fit": null,
            "grid_auto_columns": null,
            "margin": null,
            "display": null,
            "left": null
          }
        },
        "a5d48092a70f4a6fb5cca6bbf48b39fe": {
          "model_module": "@jupyter-widgets/controls",
          "model_name": "DescriptionStyleModel",
          "state": {
            "_view_name": "StyleView",
            "_model_name": "DescriptionStyleModel",
            "description_width": "",
            "_view_module": "@jupyter-widgets/base",
            "_model_module_version": "1.5.0",
            "_view_count": null,
            "_view_module_version": "1.2.0",
            "_model_module": "@jupyter-widgets/controls"
          }
        },
        "724a9c77bcef4df19a143c18a8321972": {
          "model_module": "@jupyter-widgets/base",
          "model_name": "LayoutModel",
          "state": {
            "_view_name": "LayoutView",
            "grid_template_rows": null,
            "right": null,
            "justify_content": null,
            "_view_module": "@jupyter-widgets/base",
            "overflow": null,
            "_model_module_version": "1.2.0",
            "_view_count": null,
            "flex_flow": null,
            "width": null,
            "min_width": null,
            "border": null,
            "align_items": null,
            "bottom": null,
            "_model_module": "@jupyter-widgets/base",
            "top": null,
            "grid_column": null,
            "overflow_y": null,
            "overflow_x": null,
            "grid_auto_flow": null,
            "grid_area": null,
            "grid_template_columns": null,
            "flex": null,
            "_model_name": "LayoutModel",
            "justify_items": null,
            "grid_row": null,
            "max_height": null,
            "align_content": null,
            "visibility": null,
            "align_self": null,
            "height": null,
            "min_height": null,
            "padding": null,
            "grid_auto_rows": null,
            "grid_gap": null,
            "max_width": null,
            "order": null,
            "_view_module_version": "1.2.0",
            "grid_template_areas": null,
            "object_position": null,
            "object_fit": null,
            "grid_auto_columns": null,
            "margin": null,
            "display": null,
            "left": null
          }
        },
        "c79af2935bca4f3d9226a641f87cf3ed": {
          "model_module": "@jupyter-widgets/controls",
          "model_name": "HBoxModel",
          "state": {
            "_view_name": "HBoxView",
            "_dom_classes": [],
            "_model_name": "HBoxModel",
            "_view_module": "@jupyter-widgets/controls",
            "_model_module_version": "1.5.0",
            "_view_count": null,
            "_view_module_version": "1.5.0",
            "box_style": "",
            "layout": "IPY_MODEL_bd686b629357469bb287dbc383fd12b9",
            "_model_module": "@jupyter-widgets/controls",
            "children": [
              "IPY_MODEL_940e2c52a2ec4488ac6018aef55313fc",
              "IPY_MODEL_00788489353b4db29af0031db29450be"
            ]
          }
        },
        "bd686b629357469bb287dbc383fd12b9": {
          "model_module": "@jupyter-widgets/base",
          "model_name": "LayoutModel",
          "state": {
            "_view_name": "LayoutView",
            "grid_template_rows": null,
            "right": null,
            "justify_content": null,
            "_view_module": "@jupyter-widgets/base",
            "overflow": null,
            "_model_module_version": "1.2.0",
            "_view_count": null,
            "flex_flow": null,
            "width": null,
            "min_width": null,
            "border": null,
            "align_items": null,
            "bottom": null,
            "_model_module": "@jupyter-widgets/base",
            "top": null,
            "grid_column": null,
            "overflow_y": null,
            "overflow_x": null,
            "grid_auto_flow": null,
            "grid_area": null,
            "grid_template_columns": null,
            "flex": null,
            "_model_name": "LayoutModel",
            "justify_items": null,
            "grid_row": null,
            "max_height": null,
            "align_content": null,
            "visibility": null,
            "align_self": null,
            "height": null,
            "min_height": null,
            "padding": null,
            "grid_auto_rows": null,
            "grid_gap": null,
            "max_width": null,
            "order": null,
            "_view_module_version": "1.2.0",
            "grid_template_areas": null,
            "object_position": null,
            "object_fit": null,
            "grid_auto_columns": null,
            "margin": null,
            "display": null,
            "left": null
          }
        },
        "940e2c52a2ec4488ac6018aef55313fc": {
          "model_module": "@jupyter-widgets/controls",
          "model_name": "FloatProgressModel",
          "state": {
            "_view_name": "ProgressView",
            "style": "IPY_MODEL_e7195b38dc6c48c0a023bae80659d918",
            "_dom_classes": [],
            "description": "100%",
            "_model_name": "FloatProgressModel",
            "bar_style": "success",
            "max": 39732,
            "_view_module": "@jupyter-widgets/controls",
            "_model_module_version": "1.5.0",
            "value": 39732,
            "_view_count": null,
            "_view_module_version": "1.5.0",
            "orientation": "horizontal",
            "min": 0,
            "description_tooltip": null,
            "_model_module": "@jupyter-widgets/controls",
            "layout": "IPY_MODEL_717ae05d45354ad6924611cd587c2729"
          }
        },
        "00788489353b4db29af0031db29450be": {
          "model_module": "@jupyter-widgets/controls",
          "model_name": "HTMLModel",
          "state": {
            "_view_name": "HTMLView",
            "style": "IPY_MODEL_913f88b6fd904ba18368042a95d3a005",
            "_dom_classes": [],
            "description": "",
            "_model_name": "HTMLModel",
            "placeholder": "​",
            "_view_module": "@jupyter-widgets/controls",
            "_model_module_version": "1.5.0",
            "value": " 39732/39732 [29:00&lt;00:00, 22.83it/s]",
            "_view_count": null,
            "_view_module_version": "1.5.0",
            "description_tooltip": null,
            "_model_module": "@jupyter-widgets/controls",
            "layout": "IPY_MODEL_a415aac8b6af4e238afce04f381bee3d"
          }
        },
        "e7195b38dc6c48c0a023bae80659d918": {
          "model_module": "@jupyter-widgets/controls",
          "model_name": "ProgressStyleModel",
          "state": {
            "_view_name": "StyleView",
            "_model_name": "ProgressStyleModel",
            "description_width": "initial",
            "_view_module": "@jupyter-widgets/base",
            "_model_module_version": "1.5.0",
            "_view_count": null,
            "_view_module_version": "1.2.0",
            "bar_color": null,
            "_model_module": "@jupyter-widgets/controls"
          }
        },
        "717ae05d45354ad6924611cd587c2729": {
          "model_module": "@jupyter-widgets/base",
          "model_name": "LayoutModel",
          "state": {
            "_view_name": "LayoutView",
            "grid_template_rows": null,
            "right": null,
            "justify_content": null,
            "_view_module": "@jupyter-widgets/base",
            "overflow": null,
            "_model_module_version": "1.2.0",
            "_view_count": null,
            "flex_flow": null,
            "width": null,
            "min_width": null,
            "border": null,
            "align_items": null,
            "bottom": null,
            "_model_module": "@jupyter-widgets/base",
            "top": null,
            "grid_column": null,
            "overflow_y": null,
            "overflow_x": null,
            "grid_auto_flow": null,
            "grid_area": null,
            "grid_template_columns": null,
            "flex": null,
            "_model_name": "LayoutModel",
            "justify_items": null,
            "grid_row": null,
            "max_height": null,
            "align_content": null,
            "visibility": null,
            "align_self": null,
            "height": null,
            "min_height": null,
            "padding": null,
            "grid_auto_rows": null,
            "grid_gap": null,
            "max_width": null,
            "order": null,
            "_view_module_version": "1.2.0",
            "grid_template_areas": null,
            "object_position": null,
            "object_fit": null,
            "grid_auto_columns": null,
            "margin": null,
            "display": null,
            "left": null
          }
        },
        "913f88b6fd904ba18368042a95d3a005": {
          "model_module": "@jupyter-widgets/controls",
          "model_name": "DescriptionStyleModel",
          "state": {
            "_view_name": "StyleView",
            "_model_name": "DescriptionStyleModel",
            "description_width": "",
            "_view_module": "@jupyter-widgets/base",
            "_model_module_version": "1.5.0",
            "_view_count": null,
            "_view_module_version": "1.2.0",
            "_model_module": "@jupyter-widgets/controls"
          }
        },
        "a415aac8b6af4e238afce04f381bee3d": {
          "model_module": "@jupyter-widgets/base",
          "model_name": "LayoutModel",
          "state": {
            "_view_name": "LayoutView",
            "grid_template_rows": null,
            "right": null,
            "justify_content": null,
            "_view_module": "@jupyter-widgets/base",
            "overflow": null,
            "_model_module_version": "1.2.0",
            "_view_count": null,
            "flex_flow": null,
            "width": null,
            "min_width": null,
            "border": null,
            "align_items": null,
            "bottom": null,
            "_model_module": "@jupyter-widgets/base",
            "top": null,
            "grid_column": null,
            "overflow_y": null,
            "overflow_x": null,
            "grid_auto_flow": null,
            "grid_area": null,
            "grid_template_columns": null,
            "flex": null,
            "_model_name": "LayoutModel",
            "justify_items": null,
            "grid_row": null,
            "max_height": null,
            "align_content": null,
            "visibility": null,
            "align_self": null,
            "height": null,
            "min_height": null,
            "padding": null,
            "grid_auto_rows": null,
            "grid_gap": null,
            "max_width": null,
            "order": null,
            "_view_module_version": "1.2.0",
            "grid_template_areas": null,
            "object_position": null,
            "object_fit": null,
            "grid_auto_columns": null,
            "margin": null,
            "display": null,
            "left": null
          }
        }
      }
    },
    "accelerator": "GPU"
  },
  "cells": [
    {
      "cell_type": "code",
      "metadata": {
        "id": "ujFnaIhtRir8",
        "colab_type": "code",
        "colab": {}
      },
      "source": [
        "# !pip install lightfm"
      ],
      "execution_count": null,
      "outputs": []
    },
    {
      "cell_type": "code",
      "metadata": {
        "id": "qych5j-rY85j",
        "colab_type": "code",
        "colab": {
          "base_uri": "https://localhost:8080/",
          "height": 34
        },
        "outputId": "2e974656-f19c-4b6a-a396-d9df6191ef60"
      },
      "source": [
        "!pip install pyforest\n",
        "\n",
        "import pyforest\n",
        "import pandas as pd\n",
        "import numpy as np\n",
        "import matplotlib.pyplot as plt\n",
        "from scipy.sparse import csr_matrix\n",
        "from tqdm import tqdm_notebook\n",
        "# from lightfm import LightFM\n"
      ],
      "execution_count": null,
      "outputs": [
        {
          "output_type": "stream",
          "text": [
            "Requirement already satisfied: pyforest in /usr/local/lib/python3.6/dist-packages (1.0.3)\n"
          ],
          "name": "stdout"
        }
      ]
    },
    {
      "cell_type": "code",
      "metadata": {
        "id": "4dZGjzH_elnf",
        "colab_type": "code",
        "colab": {
          "base_uri": "https://localhost:8080/",
          "height": 34
        },
        "outputId": "58ed6b57-b935-4dd3-e753-c7a7aedb299e"
      },
      "source": [
        "# enabling the GPU\n",
        "%tensorflow_version 2.x\n",
        "import tensorflow as tf\n",
        "device_name = tf.test.gpu_device_name()\n",
        "if device_name != '/device:GPU:0':\n",
        "  raise SystemError('GPU device not found')\n",
        "print('Found GPU at: {}'.format(device_name))"
      ],
      "execution_count": null,
      "outputs": [
        {
          "output_type": "stream",
          "text": [
            "Found GPU at: /device:GPU:0\n"
          ],
          "name": "stdout"
        }
      ]
    },
    {
      "cell_type": "code",
      "metadata": {
        "id": "CKOyLs7ZYMaU",
        "colab_type": "code",
        "colab": {}
      },
      "source": [
        "PATH = '/content/drive/My Drive/JanataHack_recommendation_engine/'"
      ],
      "execution_count": null,
      "outputs": []
    },
    {
      "cell_type": "code",
      "metadata": {
        "id": "FGRSGarAY3rr",
        "colab_type": "code",
        "colab": {}
      },
      "source": [
        "train = pd.read_csv(PATH + 'train.csv')\n",
        "test = pd.read_csv(PATH + 'test.csv')\n",
        "challenge = pd.read_csv(PATH + 'challenge_data.csv')"
      ],
      "execution_count": null,
      "outputs": []
    },
    {
      "cell_type": "code",
      "metadata": {
        "id": "n6x6JcH8Y3oy",
        "colab_type": "code",
        "colab": {
          "base_uri": "https://localhost:8080/",
          "height": 195
        },
        "outputId": "89189a0e-33f6-43ac-c699-1866b6c0e6ff"
      },
      "source": [
        "train.head()"
      ],
      "execution_count": null,
      "outputs": [
        {
          "output_type": "execute_result",
          "data": {
            "text/html": [
              "<div>\n",
              "<style scoped>\n",
              "    .dataframe tbody tr th:only-of-type {\n",
              "        vertical-align: middle;\n",
              "    }\n",
              "\n",
              "    .dataframe tbody tr th {\n",
              "        vertical-align: top;\n",
              "    }\n",
              "\n",
              "    .dataframe thead th {\n",
              "        text-align: right;\n",
              "    }\n",
              "</style>\n",
              "<table border=\"1\" class=\"dataframe\">\n",
              "  <thead>\n",
              "    <tr style=\"text-align: right;\">\n",
              "      <th></th>\n",
              "      <th>user_sequence</th>\n",
              "      <th>user_id</th>\n",
              "      <th>challenge_sequence</th>\n",
              "      <th>challenge</th>\n",
              "    </tr>\n",
              "  </thead>\n",
              "  <tbody>\n",
              "    <tr>\n",
              "      <th>0</th>\n",
              "      <td>4576_1</td>\n",
              "      <td>4576</td>\n",
              "      <td>1</td>\n",
              "      <td>CI23714</td>\n",
              "    </tr>\n",
              "    <tr>\n",
              "      <th>1</th>\n",
              "      <td>4576_2</td>\n",
              "      <td>4576</td>\n",
              "      <td>2</td>\n",
              "      <td>CI23855</td>\n",
              "    </tr>\n",
              "    <tr>\n",
              "      <th>2</th>\n",
              "      <td>4576_3</td>\n",
              "      <td>4576</td>\n",
              "      <td>3</td>\n",
              "      <td>CI24917</td>\n",
              "    </tr>\n",
              "    <tr>\n",
              "      <th>3</th>\n",
              "      <td>4576_4</td>\n",
              "      <td>4576</td>\n",
              "      <td>4</td>\n",
              "      <td>CI23663</td>\n",
              "    </tr>\n",
              "    <tr>\n",
              "      <th>4</th>\n",
              "      <td>4576_5</td>\n",
              "      <td>4576</td>\n",
              "      <td>5</td>\n",
              "      <td>CI23933</td>\n",
              "    </tr>\n",
              "  </tbody>\n",
              "</table>\n",
              "</div>"
            ],
            "text/plain": [
              "  user_sequence  user_id  challenge_sequence challenge\n",
              "0        4576_1     4576                   1   CI23714\n",
              "1        4576_2     4576                   2   CI23855\n",
              "2        4576_3     4576                   3   CI24917\n",
              "3        4576_4     4576                   4   CI23663\n",
              "4        4576_5     4576                   5   CI23933"
            ]
          },
          "metadata": {
            "tags": []
          },
          "execution_count": 5
        }
      ]
    },
    {
      "cell_type": "code",
      "metadata": {
        "id": "uL2HjrTSY3k-",
        "colab_type": "code",
        "colab": {
          "base_uri": "https://localhost:8080/",
          "height": 50
        },
        "outputId": "d1cc85eb-91b6-418e-8b9c-3db8bd43351a"
      },
      "source": [
        "print(train.shape)\n",
        "print(test.shape)"
      ],
      "execution_count": null,
      "outputs": [
        {
          "output_type": "stream",
          "text": [
            "(903916, 4)\n",
            "(397320, 4)\n"
          ],
          "name": "stdout"
        }
      ]
    },
    {
      "cell_type": "code",
      "metadata": {
        "id": "fEsDqMqlY3hl",
        "colab_type": "code",
        "colab": {
          "base_uri": "https://localhost:8080/",
          "height": 185
        },
        "outputId": "cc01adc1-ada9-4614-bfdd-a9c3f92d15ed"
      },
      "source": [
        "challenge.isna().sum()"
      ],
      "execution_count": null,
      "outputs": [
        {
          "output_type": "execute_result",
          "data": {
            "text/plain": [
              "challenge_ID               0\n",
              "programming_language       0\n",
              "challenge_series_ID       12\n",
              "total_submissions        352\n",
              "publish_date               0\n",
              "author_ID                 39\n",
              "author_gender             97\n",
              "author_org_ID            248\n",
              "category_id             1841\n",
              "dtype: int64"
            ]
          },
          "metadata": {
            "tags": []
          },
          "execution_count": 7
        }
      ]
    },
    {
      "cell_type": "code",
      "metadata": {
        "id": "qEnSXUhycJx6",
        "colab_type": "code",
        "colab": {
          "base_uri": "https://localhost:8080/",
          "height": 286
        },
        "outputId": "e04a7a80-ea1a-421a-ce20-ce8c48ccffa4"
      },
      "source": [
        "challenge.info()"
      ],
      "execution_count": null,
      "outputs": [
        {
          "output_type": "stream",
          "text": [
            "<class 'pandas.core.frame.DataFrame'>\n",
            "RangeIndex: 5606 entries, 0 to 5605\n",
            "Data columns (total 9 columns):\n",
            " #   Column                Non-Null Count  Dtype  \n",
            "---  ------                --------------  -----  \n",
            " 0   challenge_ID          5606 non-null   object \n",
            " 1   programming_language  5606 non-null   int64  \n",
            " 2   challenge_series_ID   5594 non-null   object \n",
            " 3   total_submissions     5254 non-null   float64\n",
            " 4   publish_date          5606 non-null   object \n",
            " 5   author_ID             5567 non-null   object \n",
            " 6   author_gender         5509 non-null   object \n",
            " 7   author_org_ID         5358 non-null   object \n",
            " 8   category_id           3765 non-null   float64\n",
            "dtypes: float64(2), int64(1), object(6)\n",
            "memory usage: 394.3+ KB\n"
          ],
          "name": "stdout"
        }
      ]
    },
    {
      "cell_type": "markdown",
      "metadata": {
        "id": "ai4JIeijD8NP",
        "colab_type": "text"
      },
      "source": [
        "## LIGHTFM MODEL "
      ]
    },
    {
      "cell_type": "markdown",
      "metadata": {
        "id": "TmUC5503xV4-",
        "colab_type": "text"
      },
      "source": [
        "## PROCESSING CHALLENGE DATASET"
      ]
    },
    {
      "cell_type": "code",
      "metadata": {
        "id": "Ts-88QPynIpE",
        "colab_type": "code",
        "colab": {
          "base_uri": "https://localhost:8080/",
          "height": 224
        },
        "outputId": "638e4163-1a76-4235-bd99-9f24b70d27af"
      },
      "source": [
        "challenge.head()"
      ],
      "execution_count": null,
      "outputs": [
        {
          "output_type": "execute_result",
          "data": {
            "text/html": [
              "<div>\n",
              "<style scoped>\n",
              "    .dataframe tbody tr th:only-of-type {\n",
              "        vertical-align: middle;\n",
              "    }\n",
              "\n",
              "    .dataframe tbody tr th {\n",
              "        vertical-align: top;\n",
              "    }\n",
              "\n",
              "    .dataframe thead th {\n",
              "        text-align: right;\n",
              "    }\n",
              "</style>\n",
              "<table border=\"1\" class=\"dataframe\">\n",
              "  <thead>\n",
              "    <tr style=\"text-align: right;\">\n",
              "      <th></th>\n",
              "      <th>challenge_ID</th>\n",
              "      <th>programming_language</th>\n",
              "      <th>challenge_series_ID</th>\n",
              "      <th>total_submissions</th>\n",
              "      <th>publish_date</th>\n",
              "      <th>author_ID</th>\n",
              "      <th>author_gender</th>\n",
              "      <th>author_org_ID</th>\n",
              "      <th>category_id</th>\n",
              "    </tr>\n",
              "  </thead>\n",
              "  <tbody>\n",
              "    <tr>\n",
              "      <th>0</th>\n",
              "      <td>CI23478</td>\n",
              "      <td>2</td>\n",
              "      <td>SI2445</td>\n",
              "      <td>37.0</td>\n",
              "      <td>06-05-2006</td>\n",
              "      <td>AI563576</td>\n",
              "      <td>M</td>\n",
              "      <td>AOI100001</td>\n",
              "      <td>NaN</td>\n",
              "    </tr>\n",
              "    <tr>\n",
              "      <th>1</th>\n",
              "      <td>CI23479</td>\n",
              "      <td>2</td>\n",
              "      <td>SI2435</td>\n",
              "      <td>48.0</td>\n",
              "      <td>17-10-2002</td>\n",
              "      <td>AI563577</td>\n",
              "      <td>M</td>\n",
              "      <td>AOI100002</td>\n",
              "      <td>32.0</td>\n",
              "    </tr>\n",
              "    <tr>\n",
              "      <th>2</th>\n",
              "      <td>CI23480</td>\n",
              "      <td>1</td>\n",
              "      <td>SI2435</td>\n",
              "      <td>15.0</td>\n",
              "      <td>16-10-2002</td>\n",
              "      <td>AI563578</td>\n",
              "      <td>M</td>\n",
              "      <td>AOI100003</td>\n",
              "      <td>NaN</td>\n",
              "    </tr>\n",
              "    <tr>\n",
              "      <th>3</th>\n",
              "      <td>CI23481</td>\n",
              "      <td>1</td>\n",
              "      <td>SI2710</td>\n",
              "      <td>236.0</td>\n",
              "      <td>19-09-2003</td>\n",
              "      <td>AI563579</td>\n",
              "      <td>M</td>\n",
              "      <td>AOI100004</td>\n",
              "      <td>70.0</td>\n",
              "    </tr>\n",
              "    <tr>\n",
              "      <th>4</th>\n",
              "      <td>CI23482</td>\n",
              "      <td>2</td>\n",
              "      <td>SI2440</td>\n",
              "      <td>137.0</td>\n",
              "      <td>21-03-2002</td>\n",
              "      <td>AI563580</td>\n",
              "      <td>M</td>\n",
              "      <td>AOI100005</td>\n",
              "      <td>NaN</td>\n",
              "    </tr>\n",
              "  </tbody>\n",
              "</table>\n",
              "</div>"
            ],
            "text/plain": [
              "  challenge_ID  programming_language  ... author_org_ID  category_id\n",
              "0      CI23478                     2  ...     AOI100001          NaN\n",
              "1      CI23479                     2  ...     AOI100002         32.0\n",
              "2      CI23480                     1  ...     AOI100003          NaN\n",
              "3      CI23481                     1  ...     AOI100004         70.0\n",
              "4      CI23482                     2  ...     AOI100005          NaN\n",
              "\n",
              "[5 rows x 9 columns]"
            ]
          },
          "metadata": {
            "tags": []
          },
          "execution_count": 10
        }
      ]
    },
    {
      "cell_type": "code",
      "metadata": {
        "id": "6T3FBri7ncnK",
        "colab_type": "code",
        "colab": {}
      },
      "source": [
        "challenge['total_submissions'].replace(np.nan,0, inplace=True)\n"
      ],
      "execution_count": null,
      "outputs": []
    },
    {
      "cell_type": "code",
      "metadata": {
        "id": "iaBYsOAVpL0w",
        "colab_type": "code",
        "colab": {}
      },
      "source": [
        "challenge['publish_date'] = pd.to_datetime(challenge['publish_date'], dayfirst =True)\n",
        "challenge['publishing_day'] = challenge['publish_date'].dt.day\n",
        "challenge['publishing_year'] = challenge['publish_date'].dt.year\n",
        "challenge['publishing_month'] = challenge['publish_date'].dt.month\n",
        "challenge.drop(['publish_date'], axis=1, inplace=True)\n"
      ],
      "execution_count": null,
      "outputs": []
    },
    {
      "cell_type": "code",
      "metadata": {
        "id": "k9eMh8jWqlSS",
        "colab_type": "code",
        "colab": {
          "base_uri": "https://localhost:8080/",
          "height": 221
        },
        "outputId": "595b47b5-8b10-4f61-9cd7-d7a3d799cd90"
      },
      "source": [
        "challenge.isna().sum()"
      ],
      "execution_count": null,
      "outputs": [
        {
          "output_type": "execute_result",
          "data": {
            "text/plain": [
              "challenge_ID               0\n",
              "programming_language       0\n",
              "challenge_series_ID       12\n",
              "total_submissions          0\n",
              "author_ID                 39\n",
              "author_gender             97\n",
              "author_org_ID            248\n",
              "category_id             1841\n",
              "publishing_day             0\n",
              "publishing_year            0\n",
              "publishing_month           0\n",
              "dtype: int64"
            ]
          },
          "metadata": {
            "tags": []
          },
          "execution_count": 13
        }
      ]
    },
    {
      "cell_type": "code",
      "metadata": {
        "id": "6t7SLl6eqpob",
        "colab_type": "code",
        "colab": {
          "base_uri": "https://localhost:8080/",
          "height": 85
        },
        "outputId": "853bdb74-7d35-4ce9-b94b-608f19a28a12"
      },
      "source": [
        "print(challenge['category_id'].nunique())\n",
        "print(challenge['challenge_series_ID'].nunique())\n",
        "print(challenge['author_ID'].nunique())\n",
        "print(challenge['author_org_ID'].nunique())"
      ],
      "execution_count": null,
      "outputs": [
        {
          "output_type": "stream",
          "text": [
            "194\n",
            "435\n",
            "3484\n",
            "1717\n"
          ],
          "name": "stdout"
        }
      ]
    },
    {
      "cell_type": "code",
      "metadata": {
        "id": "3R6TWbpJrdsR",
        "colab_type": "code",
        "colab": {}
      },
      "source": [
        "# dummify categorical features\n",
        "challenge = pd.get_dummies(challenge, columns = ['programming_language', 'author_gender', 'challenge_series_ID',\n",
        "                                                                                         'category_id', 'publishing_day', \n",
        "                                                                                         'publishing_year','publishing_month'])"
      ],
      "execution_count": null,
      "outputs": []
    },
    {
      "cell_type": "code",
      "metadata": {
        "id": "qf6PyXBlr7b7",
        "colab_type": "code",
        "colab": {}
      },
      "source": [
        "def dic_mapping(df, col):\n",
        "  req_list = df[col].unique().tolist()\n",
        "  req_dict = {}\n",
        "  for e,i in enumerate(req_list):\n",
        "    req_dict[i] = e\n",
        "  return req_dict"
      ],
      "execution_count": null,
      "outputs": []
    },
    {
      "cell_type": "code",
      "metadata": {
        "id": "lYhQwJRXs_nK",
        "colab_type": "code",
        "colab": {}
      },
      "source": [
        "author_dict = dic_mapping(challenge, 'author_ID')\n",
        "author_org_dict = dic_mapping(challenge, 'author_org_ID')\n",
        "challenge_dict = dic_mapping(challenge, 'challenge_ID')"
      ],
      "execution_count": null,
      "outputs": []
    },
    {
      "cell_type": "code",
      "metadata": {
        "id": "WCHHRtMhDIZU",
        "colab_type": "code",
        "colab": {}
      },
      "source": [
        "challenge_dict_demap = {v:k for k,v in challenge_dict.items()}"
      ],
      "execution_count": null,
      "outputs": []
    },
    {
      "cell_type": "code",
      "metadata": {
        "id": "XKlW6YjztXqK",
        "colab_type": "code",
        "colab": {}
      },
      "source": [
        "challenge['author_ID'].replace(author_dict, inplace=True)\n",
        "challenge['author_org_ID'].replace(author_org_dict, inplace=True)\n",
        "challenge['challenge_ID'].replace(challenge_dict, inplace=True)"
      ],
      "execution_count": null,
      "outputs": []
    },
    {
      "cell_type": "code",
      "metadata": {
        "id": "llmFteCHt9lX",
        "colab_type": "code",
        "colab": {}
      },
      "source": [
        "challenge['challenge_ID'] = challenge['challenge_ID'].astype(int)\n",
        "challenge.sort_values(by=['challenge_ID'],inplace=True)"
      ],
      "execution_count": null,
      "outputs": []
    },
    {
      "cell_type": "code",
      "metadata": {
        "id": "A87NbYCTtiRk",
        "colab_type": "code",
        "colab": {}
      },
      "source": [
        "# convert to csr matrix\n",
        "challenge_csr = csr_matrix(challenge.drop('challenge_ID', axis=1).values)"
      ],
      "execution_count": null,
      "outputs": []
    },
    {
      "cell_type": "markdown",
      "metadata": {
        "id": "MqfsXW_ZxbNS",
        "colab_type": "text"
      },
      "source": [
        "# PROCESSING USER CHALLENGE PARTICIPATION DATASET"
      ]
    },
    {
      "cell_type": "code",
      "metadata": {
        "id": "0b4zvSuAyLOo",
        "colab_type": "code",
        "colab": {
          "base_uri": "https://localhost:8080/",
          "height": 195
        },
        "outputId": "4254667a-b3df-4ab6-e432-309314481e0a"
      },
      "source": [
        "train.head()"
      ],
      "execution_count": null,
      "outputs": [
        {
          "output_type": "execute_result",
          "data": {
            "text/html": [
              "<div>\n",
              "<style scoped>\n",
              "    .dataframe tbody tr th:only-of-type {\n",
              "        vertical-align: middle;\n",
              "    }\n",
              "\n",
              "    .dataframe tbody tr th {\n",
              "        vertical-align: top;\n",
              "    }\n",
              "\n",
              "    .dataframe thead th {\n",
              "        text-align: right;\n",
              "    }\n",
              "</style>\n",
              "<table border=\"1\" class=\"dataframe\">\n",
              "  <thead>\n",
              "    <tr style=\"text-align: right;\">\n",
              "      <th></th>\n",
              "      <th>user_sequence</th>\n",
              "      <th>user_id</th>\n",
              "      <th>challenge_sequence</th>\n",
              "      <th>challenge</th>\n",
              "    </tr>\n",
              "  </thead>\n",
              "  <tbody>\n",
              "    <tr>\n",
              "      <th>0</th>\n",
              "      <td>4576_1</td>\n",
              "      <td>4576</td>\n",
              "      <td>1</td>\n",
              "      <td>CI23714</td>\n",
              "    </tr>\n",
              "    <tr>\n",
              "      <th>1</th>\n",
              "      <td>4576_2</td>\n",
              "      <td>4576</td>\n",
              "      <td>2</td>\n",
              "      <td>CI23855</td>\n",
              "    </tr>\n",
              "    <tr>\n",
              "      <th>2</th>\n",
              "      <td>4576_3</td>\n",
              "      <td>4576</td>\n",
              "      <td>3</td>\n",
              "      <td>CI24917</td>\n",
              "    </tr>\n",
              "    <tr>\n",
              "      <th>3</th>\n",
              "      <td>4576_4</td>\n",
              "      <td>4576</td>\n",
              "      <td>4</td>\n",
              "      <td>CI23663</td>\n",
              "    </tr>\n",
              "    <tr>\n",
              "      <th>4</th>\n",
              "      <td>4576_5</td>\n",
              "      <td>4576</td>\n",
              "      <td>5</td>\n",
              "      <td>CI23933</td>\n",
              "    </tr>\n",
              "  </tbody>\n",
              "</table>\n",
              "</div>"
            ],
            "text/plain": [
              "  user_sequence  user_id  challenge_sequence challenge\n",
              "0        4576_1     4576                   1   CI23714\n",
              "1        4576_2     4576                   2   CI23855\n",
              "2        4576_3     4576                   3   CI24917\n",
              "3        4576_4     4576                   4   CI23663\n",
              "4        4576_5     4576                   5   CI23933"
            ]
          },
          "metadata": {
            "tags": []
          },
          "execution_count": 22
        }
      ]
    },
    {
      "cell_type": "markdown",
      "metadata": {
        "id": "zAyx9CVeya8Q",
        "colab_type": "text"
      },
      "source": [
        "User_sequence is unique for all the records <br>\n",
        "Challenge sequence has 1 unique records with equal distribution of 69k values<br>\n",
        "69k unique users <br>\n",
        "5348 unique challenges\n",
        "\n"
      ]
    },
    {
      "cell_type": "code",
      "metadata": {
        "id": "th8tE3zCystP",
        "colab_type": "code",
        "colab": {}
      },
      "source": [
        "train_test = pd.concat([train,test],axis=0)"
      ],
      "execution_count": null,
      "outputs": []
    },
    {
      "cell_type": "code",
      "metadata": {
        "id": "TbjlI3Seytst",
        "colab_type": "code",
        "colab": {}
      },
      "source": [
        "# user_dict = dic_mapping(train_test, 'user_id')"
      ],
      "execution_count": null,
      "outputs": []
    },
    {
      "cell_type": "code",
      "metadata": {
        "id": "NYCZYANwy2bR",
        "colab_type": "code",
        "colab": {}
      },
      "source": [
        "train_test['challenge'].replace(challenge_dict, inplace=True)"
      ],
      "execution_count": null,
      "outputs": []
    },
    {
      "cell_type": "code",
      "metadata": {
        "id": "Ra8NkOp8y7Uz",
        "colab_type": "code",
        "colab": {
          "base_uri": "https://localhost:8080/",
          "height": 195
        },
        "outputId": "3dde83f9-a3f8-4fe5-d17b-6e8768f4cf3e"
      },
      "source": [
        "train_test.head()"
      ],
      "execution_count": null,
      "outputs": [
        {
          "output_type": "execute_result",
          "data": {
            "text/html": [
              "<div>\n",
              "<style scoped>\n",
              "    .dataframe tbody tr th:only-of-type {\n",
              "        vertical-align: middle;\n",
              "    }\n",
              "\n",
              "    .dataframe tbody tr th {\n",
              "        vertical-align: top;\n",
              "    }\n",
              "\n",
              "    .dataframe thead th {\n",
              "        text-align: right;\n",
              "    }\n",
              "</style>\n",
              "<table border=\"1\" class=\"dataframe\">\n",
              "  <thead>\n",
              "    <tr style=\"text-align: right;\">\n",
              "      <th></th>\n",
              "      <th>user_sequence</th>\n",
              "      <th>user_id</th>\n",
              "      <th>challenge_sequence</th>\n",
              "      <th>challenge</th>\n",
              "    </tr>\n",
              "  </thead>\n",
              "  <tbody>\n",
              "    <tr>\n",
              "      <th>0</th>\n",
              "      <td>4576_1</td>\n",
              "      <td>4576</td>\n",
              "      <td>1</td>\n",
              "      <td>236</td>\n",
              "    </tr>\n",
              "    <tr>\n",
              "      <th>1</th>\n",
              "      <td>4576_2</td>\n",
              "      <td>4576</td>\n",
              "      <td>2</td>\n",
              "      <td>377</td>\n",
              "    </tr>\n",
              "    <tr>\n",
              "      <th>2</th>\n",
              "      <td>4576_3</td>\n",
              "      <td>4576</td>\n",
              "      <td>3</td>\n",
              "      <td>1439</td>\n",
              "    </tr>\n",
              "    <tr>\n",
              "      <th>3</th>\n",
              "      <td>4576_4</td>\n",
              "      <td>4576</td>\n",
              "      <td>4</td>\n",
              "      <td>185</td>\n",
              "    </tr>\n",
              "    <tr>\n",
              "      <th>4</th>\n",
              "      <td>4576_5</td>\n",
              "      <td>4576</td>\n",
              "      <td>5</td>\n",
              "      <td>455</td>\n",
              "    </tr>\n",
              "  </tbody>\n",
              "</table>\n",
              "</div>"
            ],
            "text/plain": [
              "  user_sequence  user_id  challenge_sequence  challenge\n",
              "0        4576_1     4576                   1        236\n",
              "1        4576_2     4576                   2        377\n",
              "2        4576_3     4576                   3       1439\n",
              "3        4576_4     4576                   4        185\n",
              "4        4576_5     4576                   5        455"
            ]
          },
          "metadata": {
            "tags": []
          },
          "execution_count": 30
        }
      ]
    },
    {
      "cell_type": "code",
      "metadata": {
        "id": "R3FiW6i1xlyV",
        "colab_type": "code",
        "colab": {}
      },
      "source": [
        "df = pd.pivot_table(train_test, index='user_id', columns='challenge', values='challenge_sequence')\n",
        "df.fillna(0, inplace=True)"
      ],
      "execution_count": null,
      "outputs": []
    },
    {
      "cell_type": "code",
      "metadata": {
        "id": "A1JApHM0ynZr",
        "colab_type": "code",
        "colab": {}
      },
      "source": [
        "user_id = list(df.index)\n",
        "user_dict = {}\n",
        "\n",
        "for e,i in enumerate(user_id):\n",
        "    user_dict[i] = e\n"
      ],
      "execution_count": null,
      "outputs": []
    },
    {
      "cell_type": "code",
      "metadata": {
        "id": "Rz9ychKD0jvS",
        "colab_type": "code",
        "colab": {}
      },
      "source": [
        "# convert to csr matrix\n",
        "df_csr = csr_matrix(df.values)"
      ],
      "execution_count": null,
      "outputs": []
    },
    {
      "cell_type": "code",
      "metadata": {
        "id": "MdplcntS0tYb",
        "colab_type": "code",
        "colab": {
          "base_uri": "https://localhost:8080/",
          "height": 34
        },
        "outputId": "72e9a2a2-50c8-48f1-9b35-43c9ec453f1f"
      },
      "source": [
        "\n",
        "model = LightFM(loss='warp',\n",
        "                random_state=2016,\n",
        "                no_components=150,\n",
        "                user_alpha=1e-3)\n",
        "\n",
        "model.fit(df_csr,item_features=challenge_csr,\n",
        "                  epochs=50,\n",
        "                  num_threads=16, verbose=False)"
      ],
      "execution_count": null,
      "outputs": [
        {
          "output_type": "execute_result",
          "data": {
            "text/plain": [
              "<lightfm.lightfm.LightFM at 0x7fb5c32a58d0>"
            ]
          },
          "metadata": {
            "tags": []
          },
          "execution_count": 94
        }
      ]
    },
    {
      "cell_type": "markdown",
      "metadata": {
        "id": "ACxQc61YF6wy",
        "colab_type": "text"
      },
      "source": [
        "# PREDICTIONS"
      ]
    },
    {
      "cell_type": "code",
      "metadata": {
        "id": "DxTmNP-lFPTJ",
        "colab_type": "code",
        "colab": {}
      },
      "source": [
        "n_items=3"
      ],
      "execution_count": null,
      "outputs": []
    },
    {
      "cell_type": "code",
      "metadata": {
        "id": "bwr0bvLw8IvO",
        "colab_type": "code",
        "colab": {
          "base_uri": "https://localhost:8080/",
          "height": 150,
          "referenced_widgets": [
            "8c57b15c56f44f109798f14f42b92db0",
            "ef2fe85214ea418db23b3ebf66dcd890",
            "dd5810f2571b4deeb2d7839c2fe42a54",
            "223b7fe2c01c41cc81b40f38b98ece79",
            "9d8b034c8b9d4312948a3772d4d53da6",
            "45c9d808c3c24bc8bec3edf4606ffc85",
            "eae4f03964f84acf850c36afd80a5337",
            "2ef2633cd35d4587950be70c7b277a1d"
          ]
        },
        "outputId": "c3ab4a04-9fab-48f8-a7fb-0258a9bad2f5"
      },
      "source": [
        "prediction = {}\n",
        "for user_id in tqdm_notebook(test['user_id'].unique()):\n",
        "  n_users, n_items = df.shape\n",
        "  user_x = user_dict[user_id]\n",
        "  scores = pd.Series(model.predict(user_x,np.arange(n_items), item_features=challenge_csr))\n",
        "  scores.index = df.columns\n",
        "  scores = list(pd.Series(scores.sort_values(ascending=False).index))\n",
        "\n",
        "  known_items = list(pd.Series(df.loc[user_id,:] \\\n",
        "                                [df.loc[user_id,:] > 0].index).sort_values(ascending=False))\n",
        "\n",
        "  scores = [x for x in scores if x not in known_items]\n",
        "  return_score_list = scores[0:3]\n",
        "  known_items = list(pd.Series(known_items).apply(lambda x: challenge_dict_demap[x]))\n",
        "  scores = list(pd.Series(return_score_list).apply(lambda x: challenge_dict_demap[x]))\n",
        "  prediction[user_id] = scores"
      ],
      "execution_count": null,
      "outputs": [
        {
          "output_type": "stream",
          "text": [
            "/usr/local/lib/python3.6/dist-packages/ipykernel_launcher.py:2: TqdmDeprecationWarning:\n",
            "\n",
            "This function will be removed in tqdm==5.0.0\n",
            "Please use `tqdm.notebook.tqdm` instead of `tqdm.tqdm_notebook`\n",
            "\n"
          ],
          "name": "stderr"
        },
        {
          "output_type": "display_data",
          "data": {
            "application/vnd.jupyter.widget-view+json": {
              "model_id": "8c57b15c56f44f109798f14f42b92db0",
              "version_minor": 0,
              "version_major": 2
            },
            "text/plain": [
              "HBox(children=(FloatProgress(value=0.0, max=39732.0), HTML(value='')))"
            ]
          },
          "metadata": {
            "tags": []
          }
        },
        {
          "output_type": "stream",
          "text": [
            "\n"
          ],
          "name": "stdout"
        }
      ]
    },
    {
      "cell_type": "code",
      "metadata": {
        "id": "cwYqlLOVIDJt",
        "colab_type": "code",
        "colab": {}
      },
      "source": [
        "final = pd.DataFrame(prediction)"
      ],
      "execution_count": null,
      "outputs": []
    },
    {
      "cell_type": "code",
      "metadata": {
        "id": "fBeTC5NUIKPx",
        "colab_type": "code",
        "colab": {}
      },
      "source": [
        "final = final.T\n",
        "final.reset_index(inplace=True)\n",
        "final.columns = ['user','11','12','13']\n",
        "final = pd.melt(final, id_vars = 'user', value_vars=['11','12','13'])\n",
        "final['user'] = final['user'].astype(str)\n",
        "final['user_sequence'] = final['user'] + '_' +final['variable']\n",
        "final.rename(columns={'value':'challenge'}, inplace=True)"
      ],
      "execution_count": null,
      "outputs": []
    },
    {
      "cell_type": "code",
      "metadata": {
        "id": "kqlQVG_lJnEF",
        "colab_type": "code",
        "colab": {}
      },
      "source": [
        "final[['user_sequence','challenge']].to_csv('lightfm.csv', index=False)"
      ],
      "execution_count": null,
      "outputs": []
    },
    {
      "cell_type": "markdown",
      "metadata": {
        "id": "3-xdtw-4YpZ7",
        "colab_type": "text"
      },
      "source": [
        "REFERENCE LINKS:\n",
        "\n",
        "https://towardsdatascience.com/recommendation-system-in-python-lightfm-61c85010ce17\n"
      ]
    },
    {
      "cell_type": "code",
      "metadata": {
        "id": "dry06Olg0MKP",
        "colab_type": "code",
        "colab": {}
      },
      "source": [
        ""
      ],
      "execution_count": null,
      "outputs": []
    },
    {
      "cell_type": "markdown",
      "metadata": {
        "id": "Ctvnte7oECEk",
        "colab_type": "text"
      },
      "source": [
        "# KNN based model"
      ]
    },
    {
      "cell_type": "code",
      "metadata": {
        "id": "ZEOsS_ooFHNM",
        "colab_type": "code",
        "colab": {}
      },
      "source": [
        "train_test = pd.concat([train,test],axis=0)"
      ],
      "execution_count": null,
      "outputs": []
    },
    {
      "cell_type": "code",
      "metadata": {
        "id": "dMjz04iIFhRK",
        "colab_type": "code",
        "colab": {}
      },
      "source": [
        "train_test.head()\n",
        "del train"
      ],
      "execution_count": null,
      "outputs": []
    },
    {
      "cell_type": "code",
      "metadata": {
        "id": "RGvwaxrqEGIR",
        "colab_type": "code",
        "colab": {}
      },
      "source": [
        "df = pd.pivot_table(train_test, index='challenge', columns='user_id', values='challenge_sequence').fillna(0)"
      ],
      "execution_count": null,
      "outputs": []
    },
    {
      "cell_type": "code",
      "metadata": {
        "id": "xipMePTPGHLs",
        "colab_type": "code",
        "colab": {}
      },
      "source": [
        "# transform matrix to scipy sparse matrix\n",
        "df_csr = csr_matrix(df.values)"
      ],
      "execution_count": null,
      "outputs": []
    },
    {
      "cell_type": "code",
      "metadata": {
        "id": "WxmMp7cbFWzL",
        "colab_type": "code",
        "colab": {
          "base_uri": "https://localhost:8080/",
          "height": 67
        },
        "outputId": "3e26c7ac-7844-414c-82a2-5e8b4792f9ad"
      },
      "source": [
        "from sklearn.neighbors import NearestNeighbors\n",
        "# define model\n",
        "model_knn = NearestNeighbors(metric='cosine', algorithm='brute', n_neighbors=40, n_jobs=-1)\n",
        "# fit\n",
        "model_knn.fit(df_csr)\n"
      ],
      "execution_count": null,
      "outputs": [
        {
          "output_type": "execute_result",
          "data": {
            "text/plain": [
              "NearestNeighbors(algorithm='brute', leaf_size=30, metric='cosine',\n",
              "                 metric_params=None, n_jobs=-1, n_neighbors=40, p=2,\n",
              "                 radius=1.0)"
            ]
          },
          "metadata": {
            "tags": []
          },
          "execution_count": 14
        }
      ]
    },
    {
      "cell_type": "code",
      "metadata": {
        "id": "DmyFBWrkFYnM",
        "colab_type": "code",
        "colab": {}
      },
      "source": [
        "distances, indices = model_knn.kneighbors(df.iloc[2,:].values.reshape(1, -1), n_neighbors = 6)"
      ],
      "execution_count": null,
      "outputs": []
    },
    {
      "cell_type": "code",
      "metadata": {
        "id": "I7uN-ESCHka9",
        "colab_type": "code",
        "colab": {
          "base_uri": "https://localhost:8080/",
          "height": 136
        },
        "outputId": "80bc4ec3-6ed0-4b3a-b481-4785115462e7"
      },
      "source": [
        "challenge_similarity = dict()\n",
        "for i in range(0, len(distances.flatten())):\n",
        "    if i == 0:\n",
        "        print('Recommendations for {0}:\\n'.format(df.index[2]))\n",
        "    else:\n",
        "        print('{0}: {1}, with distance of {2}:'.format(i, df.index[indices.flatten()[i]], distances.flatten()[i]))"
      ],
      "execution_count": null,
      "outputs": [
        {
          "output_type": "stream",
          "text": [
            "Recommendations for CI23480:\n",
            "\n",
            "1: CI26621, with distance of 0.9217279230174384:\n",
            "2: CI26249, with distance of 0.925458648880627:\n",
            "3: CI25119, with distance of 0.9467957138177462:\n",
            "4: CI23510, with distance of 0.9551198941386762:\n",
            "5: CI26057, with distance of 0.9710276746680095:\n"
          ],
          "name": "stdout"
        }
      ]
    },
    {
      "cell_type": "markdown",
      "metadata": {
        "id": "U1u8g-ExIyKs",
        "colab_type": "text"
      },
      "source": [
        "Predicting the upcoming challenges based on recent challenges"
      ]
    },
    {
      "cell_type": "code",
      "metadata": {
        "id": "R6mSamOcH7R9",
        "colab_type": "code",
        "colab": {}
      },
      "source": [
        "recent_challenge = test[test['challenge_sequence'] == 9]"
      ],
      "execution_count": null,
      "outputs": []
    },
    {
      "cell_type": "code",
      "metadata": {
        "id": "KXJqexIoIwMY",
        "colab_type": "code",
        "colab": {}
      },
      "source": [
        "def popularChallenge(challenge_name,userid,test_df,user_challenge_df):\n",
        "  specific_user = test_df[test_df['user_id'] == userid]\n",
        "  challenges_taken = specific_user['challenge'].unique()\n",
        "  challenges_taken = np.append(challenges_taken,challenge_name)\n",
        "  challenges_taken = np.unique(challenges_taken)\n",
        "  distances, indices = model_knn.kneighbors(user_challenge_df.loc[user_challenge_df.index ==challenge_name,:].values.reshape(1, -1), n_neighbors = 15)\n",
        "  req_challenges = list()\n",
        "  for i in range(1, len(distances.flatten()+1)): # starting from 1 since it is considering the query \n",
        "    closely_related_challenge = user_challenge_df.index[indices.flatten()[i]]\n",
        "    if closely_related_challenge not in challenges_taken:\n",
        "       req_challenges.append(closely_related_challenge)\n",
        "  return req_challenges\n",
        "    \n"
      ],
      "execution_count": null,
      "outputs": []
    },
    {
      "cell_type": "code",
      "metadata": {
        "id": "Vie03WxEKHdi",
        "colab_type": "code",
        "colab": {
          "base_uri": "https://localhost:8080/",
          "height": 151
        },
        "outputId": "78511815-04c4-48be-ebd8-2bafd8d82534"
      },
      "source": [
        "%%time\n",
        "recent_challenge['predicted_challenges'] = recent_challenge.apply\\\n",
        "                                  (lambda x: popularChallenge(x['challenge'],x['user_id'],\\\n",
        "                                                              test,df),\\\n",
        "                                   axis=1)"
      ],
      "execution_count": null,
      "outputs": [
        {
          "output_type": "stream",
          "text": [
            "CPU times: user 23min 59s, sys: 34min 9s, total: 58min 9s\n",
            "Wall time: 1h 19min 16s\n"
          ],
          "name": "stdout"
        },
        {
          "output_type": "stream",
          "text": [
            "/usr/local/lib/python3.6/dist-packages/ipykernel_launcher.py:1: SettingWithCopyWarning: \n",
            "A value is trying to be set on a copy of a slice from a DataFrame.\n",
            "Try using .loc[row_indexer,col_indexer] = value instead\n",
            "\n",
            "See the caveats in the documentation: https://pandas.pydata.org/pandas-docs/stable/user_guide/indexing.html#returning-a-view-versus-a-copy\n",
            "  \"\"\"Entry point for launching an IPython kernel.\n"
          ],
          "name": "stderr"
        }
      ]
    },
    {
      "cell_type": "code",
      "metadata": {
        "id": "L4qVrhNaVYew",
        "colab_type": "code",
        "colab": {}
      },
      "source": [
        "pred_challenge = recent_challenge.set_index('user_id')[['predicted_challenges']].to_dict()['predicted_challenges']"
      ],
      "execution_count": null,
      "outputs": []
    },
    {
      "cell_type": "code",
      "metadata": {
        "id": "781bdYcFrn7J",
        "colab_type": "code",
        "colab": {
          "base_uri": "https://localhost:8080/",
          "height": 303
        },
        "outputId": "ee6b12fe-d74c-4e9d-f4bf-f91241ccfbc1"
      },
      "source": [
        "final = pd.DataFrame(pred_challenge)"
      ],
      "execution_count": null,
      "outputs": [
        {
          "output_type": "error",
          "ename": "ValueError",
          "evalue": "ignored",
          "traceback": [
            "\u001b[0;31m---------------------------------------------------------------------------\u001b[0m",
            "\u001b[0;31mValueError\u001b[0m                                Traceback (most recent call last)",
            "\u001b[0;32m<ipython-input-23-bf4fea73eb9b>\u001b[0m in \u001b[0;36m<module>\u001b[0;34m()\u001b[0m\n\u001b[0;32m----> 1\u001b[0;31m \u001b[0mfinal\u001b[0m \u001b[0;34m=\u001b[0m \u001b[0mpd\u001b[0m\u001b[0;34m.\u001b[0m\u001b[0mDataFrame\u001b[0m\u001b[0;34m(\u001b[0m\u001b[0mpred_challenge\u001b[0m\u001b[0;34m)\u001b[0m\u001b[0;34m\u001b[0m\u001b[0;34m\u001b[0m\u001b[0m\n\u001b[0m",
            "\u001b[0;32m/usr/local/lib/python3.6/dist-packages/pandas/core/frame.py\u001b[0m in \u001b[0;36m__init__\u001b[0;34m(self, data, index, columns, dtype, copy)\u001b[0m\n\u001b[1;32m    433\u001b[0m             )\n\u001b[1;32m    434\u001b[0m         \u001b[0;32melif\u001b[0m \u001b[0misinstance\u001b[0m\u001b[0;34m(\u001b[0m\u001b[0mdata\u001b[0m\u001b[0;34m,\u001b[0m \u001b[0mdict\u001b[0m\u001b[0;34m)\u001b[0m\u001b[0;34m:\u001b[0m\u001b[0;34m\u001b[0m\u001b[0;34m\u001b[0m\u001b[0m\n\u001b[0;32m--> 435\u001b[0;31m             \u001b[0mmgr\u001b[0m \u001b[0;34m=\u001b[0m \u001b[0minit_dict\u001b[0m\u001b[0;34m(\u001b[0m\u001b[0mdata\u001b[0m\u001b[0;34m,\u001b[0m \u001b[0mindex\u001b[0m\u001b[0;34m,\u001b[0m \u001b[0mcolumns\u001b[0m\u001b[0;34m,\u001b[0m \u001b[0mdtype\u001b[0m\u001b[0;34m=\u001b[0m\u001b[0mdtype\u001b[0m\u001b[0;34m)\u001b[0m\u001b[0;34m\u001b[0m\u001b[0;34m\u001b[0m\u001b[0m\n\u001b[0m\u001b[1;32m    436\u001b[0m         \u001b[0;32melif\u001b[0m \u001b[0misinstance\u001b[0m\u001b[0;34m(\u001b[0m\u001b[0mdata\u001b[0m\u001b[0;34m,\u001b[0m \u001b[0mma\u001b[0m\u001b[0;34m.\u001b[0m\u001b[0mMaskedArray\u001b[0m\u001b[0;34m)\u001b[0m\u001b[0;34m:\u001b[0m\u001b[0;34m\u001b[0m\u001b[0;34m\u001b[0m\u001b[0m\n\u001b[1;32m    437\u001b[0m             \u001b[0;32mimport\u001b[0m \u001b[0mnumpy\u001b[0m\u001b[0;34m.\u001b[0m\u001b[0mma\u001b[0m\u001b[0;34m.\u001b[0m\u001b[0mmrecords\u001b[0m \u001b[0;32mas\u001b[0m \u001b[0mmrecords\u001b[0m\u001b[0;34m\u001b[0m\u001b[0;34m\u001b[0m\u001b[0m\n",
            "\u001b[0;32m/usr/local/lib/python3.6/dist-packages/pandas/core/internals/construction.py\u001b[0m in \u001b[0;36minit_dict\u001b[0;34m(data, index, columns, dtype)\u001b[0m\n\u001b[1;32m    252\u001b[0m             \u001b[0marr\u001b[0m \u001b[0;32mif\u001b[0m \u001b[0;32mnot\u001b[0m \u001b[0mis_datetime64tz_dtype\u001b[0m\u001b[0;34m(\u001b[0m\u001b[0marr\u001b[0m\u001b[0;34m)\u001b[0m \u001b[0;32melse\u001b[0m \u001b[0marr\u001b[0m\u001b[0;34m.\u001b[0m\u001b[0mcopy\u001b[0m\u001b[0;34m(\u001b[0m\u001b[0;34m)\u001b[0m \u001b[0;32mfor\u001b[0m \u001b[0marr\u001b[0m \u001b[0;32min\u001b[0m \u001b[0marrays\u001b[0m\u001b[0;34m\u001b[0m\u001b[0;34m\u001b[0m\u001b[0m\n\u001b[1;32m    253\u001b[0m         ]\n\u001b[0;32m--> 254\u001b[0;31m     \u001b[0;32mreturn\u001b[0m \u001b[0marrays_to_mgr\u001b[0m\u001b[0;34m(\u001b[0m\u001b[0marrays\u001b[0m\u001b[0;34m,\u001b[0m \u001b[0mdata_names\u001b[0m\u001b[0;34m,\u001b[0m \u001b[0mindex\u001b[0m\u001b[0;34m,\u001b[0m \u001b[0mcolumns\u001b[0m\u001b[0;34m,\u001b[0m \u001b[0mdtype\u001b[0m\u001b[0;34m=\u001b[0m\u001b[0mdtype\u001b[0m\u001b[0;34m)\u001b[0m\u001b[0;34m\u001b[0m\u001b[0;34m\u001b[0m\u001b[0m\n\u001b[0m\u001b[1;32m    255\u001b[0m \u001b[0;34m\u001b[0m\u001b[0m\n\u001b[1;32m    256\u001b[0m \u001b[0;34m\u001b[0m\u001b[0m\n",
            "\u001b[0;32m/usr/local/lib/python3.6/dist-packages/pandas/core/internals/construction.py\u001b[0m in \u001b[0;36marrays_to_mgr\u001b[0;34m(arrays, arr_names, index, columns, dtype)\u001b[0m\n\u001b[1;32m     62\u001b[0m     \u001b[0;31m# figure out the index, if necessary\u001b[0m\u001b[0;34m\u001b[0m\u001b[0;34m\u001b[0m\u001b[0;34m\u001b[0m\u001b[0m\n\u001b[1;32m     63\u001b[0m     \u001b[0;32mif\u001b[0m \u001b[0mindex\u001b[0m \u001b[0;32mis\u001b[0m \u001b[0;32mNone\u001b[0m\u001b[0;34m:\u001b[0m\u001b[0;34m\u001b[0m\u001b[0;34m\u001b[0m\u001b[0m\n\u001b[0;32m---> 64\u001b[0;31m         \u001b[0mindex\u001b[0m \u001b[0;34m=\u001b[0m \u001b[0mextract_index\u001b[0m\u001b[0;34m(\u001b[0m\u001b[0marrays\u001b[0m\u001b[0;34m)\u001b[0m\u001b[0;34m\u001b[0m\u001b[0;34m\u001b[0m\u001b[0m\n\u001b[0m\u001b[1;32m     65\u001b[0m     \u001b[0;32melse\u001b[0m\u001b[0;34m:\u001b[0m\u001b[0;34m\u001b[0m\u001b[0;34m\u001b[0m\u001b[0m\n\u001b[1;32m     66\u001b[0m         \u001b[0mindex\u001b[0m \u001b[0;34m=\u001b[0m \u001b[0mensure_index\u001b[0m\u001b[0;34m(\u001b[0m\u001b[0mindex\u001b[0m\u001b[0;34m)\u001b[0m\u001b[0;34m\u001b[0m\u001b[0;34m\u001b[0m\u001b[0m\n",
            "\u001b[0;32m/usr/local/lib/python3.6/dist-packages/pandas/core/internals/construction.py\u001b[0m in \u001b[0;36mextract_index\u001b[0;34m(data)\u001b[0m\n\u001b[1;32m    363\u001b[0m             \u001b[0mlengths\u001b[0m \u001b[0;34m=\u001b[0m \u001b[0mlist\u001b[0m\u001b[0;34m(\u001b[0m\u001b[0mset\u001b[0m\u001b[0;34m(\u001b[0m\u001b[0mraw_lengths\u001b[0m\u001b[0;34m)\u001b[0m\u001b[0;34m)\u001b[0m\u001b[0;34m\u001b[0m\u001b[0;34m\u001b[0m\u001b[0m\n\u001b[1;32m    364\u001b[0m             \u001b[0;32mif\u001b[0m \u001b[0mlen\u001b[0m\u001b[0;34m(\u001b[0m\u001b[0mlengths\u001b[0m\u001b[0;34m)\u001b[0m \u001b[0;34m>\u001b[0m \u001b[0;36m1\u001b[0m\u001b[0;34m:\u001b[0m\u001b[0;34m\u001b[0m\u001b[0;34m\u001b[0m\u001b[0m\n\u001b[0;32m--> 365\u001b[0;31m                 \u001b[0;32mraise\u001b[0m \u001b[0mValueError\u001b[0m\u001b[0;34m(\u001b[0m\u001b[0;34m\"arrays must all be same length\"\u001b[0m\u001b[0;34m)\u001b[0m\u001b[0;34m\u001b[0m\u001b[0;34m\u001b[0m\u001b[0m\n\u001b[0m\u001b[1;32m    366\u001b[0m \u001b[0;34m\u001b[0m\u001b[0m\n\u001b[1;32m    367\u001b[0m             \u001b[0;32mif\u001b[0m \u001b[0mhave_dicts\u001b[0m\u001b[0;34m:\u001b[0m\u001b[0;34m\u001b[0m\u001b[0;34m\u001b[0m\u001b[0m\n",
            "\u001b[0;31mValueError\u001b[0m: arrays must all be same length"
          ]
        }
      ]
    },
    {
      "cell_type": "code",
      "metadata": {
        "id": "YN--bOyoAwc0",
        "colab_type": "code",
        "colab": {}
      },
      "source": [
        "final = final.T\n",
        "final.reset_index(inplace=True)\n",
        "final.columns = ['user','11','12','13']\n",
        "final = pd.melt(final, id_vars = 'user', value_vars=['11','12','13'])\n",
        "final['user'] = final['user'].astype(str)\n",
        "final['user_sequence'] = final['user'] + '_' +final['variable']\n",
        "final.rename(columns={'value':'challenge'}, inplace=True)"
      ],
      "execution_count": null,
      "outputs": []
    },
    {
      "cell_type": "code",
      "metadata": {
        "id": "bWuzmPaQCG-L",
        "colab_type": "code",
        "colab": {}
      },
      "source": [
        "final[['user_sequence','challenge']].to_csv('knn.csv', index=False)"
      ],
      "execution_count": null,
      "outputs": []
    },
    {
      "cell_type": "markdown",
      "metadata": {
        "id": "hutTbvFmUxlS",
        "colab_type": "text"
      },
      "source": [
        "REFERENCE: https://github.com/aniketng21/Movie-Recommendation-System-Using-KNN-Algorithm/blob/master/Movie_Recommendation_System.ipynb"
      ]
    },
    {
      "cell_type": "markdown",
      "metadata": {
        "id": "GxfkcDyHcV1l",
        "colab_type": "text"
      },
      "source": [
        "# MATRIX FACTORISATION USING SVD"
      ]
    },
    {
      "cell_type": "code",
      "metadata": {
        "id": "KseVbti_cZgK",
        "colab_type": "code",
        "colab": {}
      },
      "source": [
        "train_test = pd.concat([train,test],axis=0)"
      ],
      "execution_count": null,
      "outputs": []
    },
    {
      "cell_type": "code",
      "metadata": {
        "id": "7A7MKqWwg-EK",
        "colab_type": "code",
        "colab": {
          "base_uri": "https://localhost:8080/",
          "height": 195
        },
        "outputId": "0b4d55c6-4dab-431a-dca4-cb5c0ff12cf8"
      },
      "source": [
        "train_test.head()"
      ],
      "execution_count": null,
      "outputs": [
        {
          "output_type": "execute_result",
          "data": {
            "text/html": [
              "<div>\n",
              "<style scoped>\n",
              "    .dataframe tbody tr th:only-of-type {\n",
              "        vertical-align: middle;\n",
              "    }\n",
              "\n",
              "    .dataframe tbody tr th {\n",
              "        vertical-align: top;\n",
              "    }\n",
              "\n",
              "    .dataframe thead th {\n",
              "        text-align: right;\n",
              "    }\n",
              "</style>\n",
              "<table border=\"1\" class=\"dataframe\">\n",
              "  <thead>\n",
              "    <tr style=\"text-align: right;\">\n",
              "      <th></th>\n",
              "      <th>user_sequence</th>\n",
              "      <th>user_id</th>\n",
              "      <th>challenge_sequence</th>\n",
              "      <th>challenge</th>\n",
              "    </tr>\n",
              "  </thead>\n",
              "  <tbody>\n",
              "    <tr>\n",
              "      <th>0</th>\n",
              "      <td>4576_1</td>\n",
              "      <td>4576</td>\n",
              "      <td>1</td>\n",
              "      <td>CI23714</td>\n",
              "    </tr>\n",
              "    <tr>\n",
              "      <th>1</th>\n",
              "      <td>4576_2</td>\n",
              "      <td>4576</td>\n",
              "      <td>2</td>\n",
              "      <td>CI23855</td>\n",
              "    </tr>\n",
              "    <tr>\n",
              "      <th>2</th>\n",
              "      <td>4576_3</td>\n",
              "      <td>4576</td>\n",
              "      <td>3</td>\n",
              "      <td>CI24917</td>\n",
              "    </tr>\n",
              "    <tr>\n",
              "      <th>3</th>\n",
              "      <td>4576_4</td>\n",
              "      <td>4576</td>\n",
              "      <td>4</td>\n",
              "      <td>CI23663</td>\n",
              "    </tr>\n",
              "    <tr>\n",
              "      <th>4</th>\n",
              "      <td>4576_5</td>\n",
              "      <td>4576</td>\n",
              "      <td>5</td>\n",
              "      <td>CI23933</td>\n",
              "    </tr>\n",
              "  </tbody>\n",
              "</table>\n",
              "</div>"
            ],
            "text/plain": [
              "  user_sequence  user_id  challenge_sequence challenge\n",
              "0        4576_1     4576                   1   CI23714\n",
              "1        4576_2     4576                   2   CI23855\n",
              "2        4576_3     4576                   3   CI24917\n",
              "3        4576_4     4576                   4   CI23663\n",
              "4        4576_5     4576                   5   CI23933"
            ]
          },
          "metadata": {
            "tags": []
          },
          "execution_count": 11
        }
      ]
    },
    {
      "cell_type": "code",
      "metadata": {
        "id": "hLQaMh4bchvB",
        "colab_type": "code",
        "colab": {}
      },
      "source": [
        "df = pd.pivot_table(train_test, index='challenge',columns='user_id', values='challenge_sequence').fillna(0)"
      ],
      "execution_count": null,
      "outputs": []
    },
    {
      "cell_type": "code",
      "metadata": {
        "id": "YthLw91m8V_n",
        "colab_type": "code",
        "colab": {}
      },
      "source": [
        "del train"
      ],
      "execution_count": null,
      "outputs": []
    },
    {
      "cell_type": "code",
      "metadata": {
        "id": "FPqwr44f6kGC",
        "colab_type": "code",
        "colab": {}
      },
      "source": [
        "challenge_unique = df.index\n",
        "challenge_list=list(challenge_unique)"
      ],
      "execution_count": null,
      "outputs": []
    },
    {
      "cell_type": "code",
      "metadata": {
        "id": "3CJgOGgS5CO6",
        "colab_type": "code",
        "colab": {}
      },
      "source": [
        "df = csr_matrix(df)"
      ],
      "execution_count": null,
      "outputs": []
    },
    {
      "cell_type": "code",
      "metadata": {
        "id": "xNQdl8M9eHFz",
        "colab_type": "code",
        "colab": {
          "base_uri": "https://localhost:8080/",
          "height": 34
        },
        "outputId": "74052f5f-f480-451a-d729-b64e8848f5b7"
      },
      "source": [
        "import sklearn\n",
        "from sklearn.decomposition import TruncatedSVD\n",
        "\n",
        "SVD = TruncatedSVD(n_components=50, random_state=17)\n",
        "matrix = SVD.fit_transform(df)\n",
        "matrix.shape"
      ],
      "execution_count": null,
      "outputs": [
        {
          "output_type": "execute_result",
          "data": {
            "text/plain": [
              "(5502, 500)"
            ]
          },
          "metadata": {
            "tags": []
          },
          "execution_count": 27
        }
      ]
    },
    {
      "cell_type": "code",
      "metadata": {
        "id": "9u02xZxdhc8N",
        "colab_type": "code",
        "colab": {
          "base_uri": "https://localhost:8080/",
          "height": 34
        },
        "outputId": "225111fc-d704-4407-9c5b-deac87f0805d"
      },
      "source": [
        "import warnings\n",
        "warnings.filterwarnings(\"ignore\",category =RuntimeWarning)\n",
        "corr = np.corrcoef(matrix)\n",
        "corr.shape"
      ],
      "execution_count": null,
      "outputs": [
        {
          "output_type": "execute_result",
          "data": {
            "text/plain": [
              "(5502, 5502)"
            ]
          },
          "metadata": {
            "tags": []
          },
          "execution_count": 28
        }
      ]
    },
    {
      "cell_type": "code",
      "metadata": {
        "id": "nLcafYpOhsw0",
        "colab_type": "code",
        "colab": {}
      },
      "source": [
        "recent_challenges = test[test['challenge_sequence']==10].reset_index(drop=True)"
      ],
      "execution_count": null,
      "outputs": []
    },
    {
      "cell_type": "code",
      "metadata": {
        "id": "JOa3v30Q66TF",
        "colab_type": "code",
        "colab": {
          "base_uri": "https://localhost:8080/",
          "height": 116,
          "referenced_widgets": [
            "16964dae52a84279a92e4fead021ca6e",
            "ffc8f1c632de4848879497b4dd975e55",
            "5206e6eb36684a1cb4cfc024586afb6a",
            "747c816ce4d64da8a4e3cd740d449bb5",
            "c5862d90fb0f439383f44cb0bee7c3ad",
            "d24567dc56884e3d8f9647ec0324a9b4",
            "a5d48092a70f4a6fb5cca6bbf48b39fe",
            "724a9c77bcef4df19a143c18a8321972"
          ]
        },
        "outputId": "4dc49a7f-e890-47f4-e32e-a35077a7361a"
      },
      "source": [
        "def get_challenge(corr_coffey_hands,challenge_list):\n",
        "  temp = pd.DataFrame()\n",
        "  temp['measure'] = corr_coffey_hands\n",
        "  temp['challenge'] = challenge_list\n",
        "  temp = temp.sort_values(by='measure', ascending=False).reset_index(drop=True)\n",
        "  pred = temp.loc[1:3,'challenge'].to_list()\n",
        "  return pred\n",
        "\n",
        "  \n",
        "pred_dic = {}\n",
        "for i in tqdm_notebook(range(recent_challenges.shape[0])):\n",
        "  challenge_temp = recent_challenges.loc[i,'challenge']\n",
        "  user_temp = recent_challenges.loc[i,'user_id']\n",
        "  coffey_hands = challenge_list.index(challenge_temp)\n",
        "  corr_coffey_hands  = corr[coffey_hands]\n",
        "  pred_challenge = get_challenge(corr_coffey_hands,challenge_list)\n",
        "  pred_dic[user_temp] = pred_challenge"
      ],
      "execution_count": null,
      "outputs": [
        {
          "output_type": "stream",
          "text": [
            "/usr/local/lib/python3.6/dist-packages/ipykernel_launcher.py:11: TqdmDeprecationWarning: This function will be removed in tqdm==5.0.0\n",
            "Please use `tqdm.notebook.tqdm` instead of `tqdm.tqdm_notebook`\n",
            "  # This is added back by InteractiveShellApp.init_path()\n"
          ],
          "name": "stderr"
        },
        {
          "output_type": "display_data",
          "data": {
            "application/vnd.jupyter.widget-view+json": {
              "model_id": "16964dae52a84279a92e4fead021ca6e",
              "version_minor": 0,
              "version_major": 2
            },
            "text/plain": [
              "HBox(children=(FloatProgress(value=0.0, max=39732.0), HTML(value='')))"
            ]
          },
          "metadata": {
            "tags": []
          }
        },
        {
          "output_type": "stream",
          "text": [
            "\n"
          ],
          "name": "stdout"
        }
      ]
    },
    {
      "cell_type": "code",
      "metadata": {
        "id": "EnqpUjh18-EX",
        "colab_type": "code",
        "colab": {}
      },
      "source": [
        "final = pd.DataFrame(pred_dic)"
      ],
      "execution_count": null,
      "outputs": []
    },
    {
      "cell_type": "code",
      "metadata": {
        "id": "OIXlZhUO9UVn",
        "colab_type": "code",
        "colab": {}
      },
      "source": [
        "final = final.T\n",
        "final.reset_index(inplace=True)\n",
        "final.columns = ['user','11','12','13']\n",
        "final = pd.melt(final, id_vars = 'user', value_vars=['11','12','13'])\n",
        "final['user'] = final['user'].astype(str)\n",
        "final['user_sequence'] = final['user'] + '_' +final['variable']\n",
        "final.rename(columns={'value':'challenge'}, inplace=True)"
      ],
      "execution_count": null,
      "outputs": []
    },
    {
      "cell_type": "code",
      "metadata": {
        "id": "fpQhgvU-9Yln",
        "colab_type": "code",
        "colab": {}
      },
      "source": [
        "final[['user_sequence','challenge']].to_csv('svd.csv', index=False)"
      ],
      "execution_count": null,
      "outputs": []
    },
    {
      "cell_type": "markdown",
      "metadata": {
        "id": "QOJ5WzCbEe-f",
        "colab_type": "text"
      },
      "source": [
        "# KERAS"
      ]
    },
    {
      "cell_type": "code",
      "metadata": {
        "id": "tUCtRlKa1DGZ",
        "colab_type": "code",
        "colab": {}
      },
      "source": [
        "from sklearn import preprocessing\n",
        "le = preprocessing.LabelEncoder()"
      ],
      "execution_count": null,
      "outputs": []
    },
    {
      "cell_type": "code",
      "metadata": {
        "id": "C727RiI996xC",
        "colab_type": "code",
        "colab": {}
      },
      "source": [
        "train_test = pd.concat([train,test], axis=0)"
      ],
      "execution_count": null,
      "outputs": []
    },
    {
      "cell_type": "code",
      "metadata": {
        "id": "Tlj9kAXP-_4_",
        "colab_type": "code",
        "colab": {}
      },
      "source": [
        "del train"
      ],
      "execution_count": null,
      "outputs": []
    },
    {
      "cell_type": "code",
      "metadata": {
        "id": "qef3LDaj1MwZ",
        "colab_type": "code",
        "colab": {}
      },
      "source": [
        "train_test['challenge'] = le.fit_transform(train_test['challenge'])"
      ],
      "execution_count": null,
      "outputs": []
    },
    {
      "cell_type": "code",
      "metadata": {
        "id": "bNUHTyMW1VIp",
        "colab_type": "code",
        "colab": {
          "base_uri": "https://localhost:8080/",
          "height": 195
        },
        "outputId": "f5b110f0-21c1-4a25-88af-3b699de5b6e1"
      },
      "source": [
        "train_test.head()"
      ],
      "execution_count": null,
      "outputs": [
        {
          "output_type": "execute_result",
          "data": {
            "text/html": [
              "<div>\n",
              "<style scoped>\n",
              "    .dataframe tbody tr th:only-of-type {\n",
              "        vertical-align: middle;\n",
              "    }\n",
              "\n",
              "    .dataframe tbody tr th {\n",
              "        vertical-align: top;\n",
              "    }\n",
              "\n",
              "    .dataframe thead th {\n",
              "        text-align: right;\n",
              "    }\n",
              "</style>\n",
              "<table border=\"1\" class=\"dataframe\">\n",
              "  <thead>\n",
              "    <tr style=\"text-align: right;\">\n",
              "      <th></th>\n",
              "      <th>user_sequence</th>\n",
              "      <th>user_id</th>\n",
              "      <th>challenge_sequence</th>\n",
              "      <th>challenge</th>\n",
              "    </tr>\n",
              "  </thead>\n",
              "  <tbody>\n",
              "    <tr>\n",
              "      <th>0</th>\n",
              "      <td>4576_1</td>\n",
              "      <td>4576</td>\n",
              "      <td>1</td>\n",
              "      <td>233</td>\n",
              "    </tr>\n",
              "    <tr>\n",
              "      <th>1</th>\n",
              "      <td>4576_2</td>\n",
              "      <td>4576</td>\n",
              "      <td>2</td>\n",
              "      <td>374</td>\n",
              "    </tr>\n",
              "    <tr>\n",
              "      <th>2</th>\n",
              "      <td>4576_3</td>\n",
              "      <td>4576</td>\n",
              "      <td>3</td>\n",
              "      <td>1421</td>\n",
              "    </tr>\n",
              "    <tr>\n",
              "      <th>3</th>\n",
              "      <td>4576_4</td>\n",
              "      <td>4576</td>\n",
              "      <td>4</td>\n",
              "      <td>182</td>\n",
              "    </tr>\n",
              "    <tr>\n",
              "      <th>4</th>\n",
              "      <td>4576_5</td>\n",
              "      <td>4576</td>\n",
              "      <td>5</td>\n",
              "      <td>451</td>\n",
              "    </tr>\n",
              "  </tbody>\n",
              "</table>\n",
              "</div>"
            ],
            "text/plain": [
              "  user_sequence  user_id  challenge_sequence  challenge\n",
              "0        4576_1     4576                   1        233\n",
              "1        4576_2     4576                   2        374\n",
              "2        4576_3     4576                   3       1421\n",
              "3        4576_4     4576                   4        182\n",
              "4        4576_5     4576                   5        451"
            ]
          },
          "metadata": {
            "tags": []
          },
          "execution_count": 14
        }
      ]
    },
    {
      "cell_type": "code",
      "metadata": {
        "id": "74cplCCrz0rg",
        "colab_type": "code",
        "colab": {
          "base_uri": "https://localhost:8080/",
          "height": 17
        },
        "outputId": "db215164-f50e-446b-fe94-2c4622f54a0a"
      },
      "source": [
        "train_new, test_new = train_test_split(train_test, test_size=0.2, random_state=42)"
      ],
      "execution_count": null,
      "outputs": [
        {
          "output_type": "display_data",
          "data": {
            "application/javascript": [
              "\n",
              "        if (window._pyforest_update_imports_cell) { window._pyforest_update_imports_cell('import pandas as pd\\nimport tensorflow as tf\\nfrom sklearn.model_selection import train_test_split'); }\n",
              "    "
            ],
            "text/plain": [
              "<IPython.core.display.Javascript object>"
            ]
          },
          "metadata": {
            "tags": []
          }
        }
      ]
    },
    {
      "cell_type": "code",
      "metadata": {
        "id": "EiF8u9gC0DS6",
        "colab_type": "code",
        "colab": {}
      },
      "source": [
        "n_users = len(train_test.user_id.unique())\n",
        "n_challenges = len(train_test.challenge.unique())"
      ],
      "execution_count": null,
      "outputs": []
    },
    {
      "cell_type": "code",
      "metadata": {
        "id": "l_J7VvRS0IjL",
        "colab_type": "code",
        "colab": {
          "base_uri": "https://localhost:8080/",
          "height": 34
        },
        "outputId": "64c56f0a-de80-492c-df96-daec0397416a"
      },
      "source": [
        "from keras.layers import Input, Embedding, Flatten, Dot, Dense\n",
        "from keras.models import Model\n",
        "\n",
        "challenge_input = Input(shape=[1], name=\"challenge-Input\")\n",
        "challenge_embedding = Embedding(n_challenges+1, 5, name=\"Book-Embedding\")(challenge_input)\n",
        "challenge_vec = Flatten(name=\"Flatten-Books\")(challenge_embedding)\n",
        "\n",
        "user_input = Input(shape=[1], name=\"User-Input\")\n",
        "user_embedding = Embedding(n_users+1, 5, name=\"User-Embedding\")(user_input)\n",
        "user_vec = Flatten(name=\"Flatten-Users\")(user_embedding)\n",
        "\n",
        "prod = Dot(name=\"Dot-Product\", axes=1)([challenge_vec, user_vec])\n",
        "x = Dense(128, activation='relu')(prod)\n",
        "y = Dense(1)(x)\n",
        "\n",
        "model = Model([user_input, challenge_input], y)\n",
        "model.compile('adam', 'mean_squared_error')"
      ],
      "execution_count": null,
      "outputs": [
        {
          "output_type": "stream",
          "text": [
            "Using TensorFlow backend.\n"
          ],
          "name": "stderr"
        }
      ]
    },
    {
      "cell_type": "code",
      "metadata": {
        "id": "CH9vEqnD0XOj",
        "colab_type": "code",
        "colab": {
          "base_uri": "https://localhost:8080/",
          "height": 420
        },
        "outputId": "675eb368-02ca-464b-f2e6-a20b20497739"
      },
      "source": [
        "history = model.fit([train_new.user_id, train_new.challenge], train_new.challenge_sequence, epochs=10, verbose=1)\n",
        "model.save('regression_model.h5')"
      ],
      "execution_count": null,
      "outputs": [
        {
          "output_type": "stream",
          "text": [
            "/usr/local/lib/python3.6/dist-packages/tensorflow/python/framework/indexed_slices.py:434: UserWarning:\n",
            "\n",
            "Converting sparse IndexedSlices to a dense Tensor of unknown shape. This may consume a large amount of memory.\n",
            "\n"
          ],
          "name": "stderr"
        },
        {
          "output_type": "stream",
          "text": [
            "Epoch 1/10\n",
            "1040988/1040988 [==============================] - 103s 99us/step - loss: 12.6426\n",
            "Epoch 2/10\n",
            "1040988/1040988 [==============================] - 104s 100us/step - loss: 10.1644\n",
            "Epoch 3/10\n",
            "1040988/1040988 [==============================] - 105s 101us/step - loss: 8.6024\n",
            "Epoch 4/10\n",
            "1040988/1040988 [==============================] - 104s 100us/step - loss: 7.8363\n",
            "Epoch 5/10\n",
            "1040988/1040988 [==============================] - 104s 100us/step - loss: 7.3889\n",
            "Epoch 6/10\n",
            "1040988/1040988 [==============================] - 104s 100us/step - loss: 7.0952\n",
            "Epoch 7/10\n",
            "1040988/1040988 [==============================] - 105s 101us/step - loss: 6.8825\n",
            "Epoch 8/10\n",
            "1040988/1040988 [==============================] - 103s 99us/step - loss: 6.7257\n",
            "Epoch 9/10\n",
            "1040988/1040988 [==============================] - 105s 101us/step - loss: 6.6036\n",
            "Epoch 10/10\n",
            "1040988/1040988 [==============================] - 103s 99us/step - loss: 6.5008\n"
          ],
          "name": "stdout"
        }
      ]
    },
    {
      "cell_type": "code",
      "metadata": {
        "id": "VfiEwuSVepqm",
        "colab_type": "code",
        "colab": {
          "base_uri": "https://localhost:8080/",
          "height": 470
        },
        "outputId": "f40a7675-8e8c-4a47-fd19-87f4be1e3d15"
      },
      "source": [
        "model.summary()"
      ],
      "execution_count": null,
      "outputs": [
        {
          "output_type": "stream",
          "text": [
            "Model: \"model_1\"\n",
            "__________________________________________________________________________________________________\n",
            "Layer (type)                    Output Shape         Param #     Connected to                     \n",
            "==================================================================================================\n",
            "challenge-Input (InputLayer)    (None, 1)            0                                            \n",
            "__________________________________________________________________________________________________\n",
            "User-Input (InputLayer)         (None, 1)            0                                            \n",
            "__________________________________________________________________________________________________\n",
            "Book-Embedding (Embedding)      (None, 1, 5)         27515       challenge-Input[0][0]            \n",
            "__________________________________________________________________________________________________\n",
            "User-Embedding (Embedding)      (None, 1, 5)         546325      User-Input[0][0]                 \n",
            "__________________________________________________________________________________________________\n",
            "Flatten-Books (Flatten)         (None, 5)            0           Book-Embedding[0][0]             \n",
            "__________________________________________________________________________________________________\n",
            "Flatten-Users (Flatten)         (None, 5)            0           User-Embedding[0][0]             \n",
            "__________________________________________________________________________________________________\n",
            "Dot-Product (Dot)               (None, 1)            0           Flatten-Books[0][0]              \n",
            "                                                                 Flatten-Users[0][0]              \n",
            "__________________________________________________________________________________________________\n",
            "dense_1 (Dense)                 (None, 128)          256         Dot-Product[0][0]                \n",
            "__________________________________________________________________________________________________\n",
            "dense_2 (Dense)                 (None, 1)            129         dense_1[0][0]                    \n",
            "==================================================================================================\n",
            "Total params: 574,225\n",
            "Trainable params: 574,225\n",
            "Non-trainable params: 0\n",
            "__________________________________________________________________________________________________\n"
          ],
          "name": "stdout"
        }
      ]
    },
    {
      "cell_type": "code",
      "metadata": {
        "id": "Um7nl9zZWUp5",
        "colab_type": "code",
        "colab": {}
      },
      "source": [
        "model.load_weights('/content/regression_model.h5')"
      ],
      "execution_count": null,
      "outputs": []
    },
    {
      "cell_type": "code",
      "metadata": {
        "id": "Mq9yxvVq9ztH",
        "colab_type": "code",
        "colab": {}
      },
      "source": [
        "# Extract embeddings\n",
        "book_em = model.get_layer('Book-Embedding')\n",
        "book_em_weights = book_em.get_weights()[0]\n"
      ],
      "execution_count": null,
      "outputs": []
    },
    {
      "cell_type": "code",
      "metadata": {
        "id": "lyAQfKmS-G-M",
        "colab_type": "code",
        "colab": {
          "base_uri": "https://localhost:8080/",
          "height": 34
        },
        "outputId": "ca5ee00e-cc5f-47cf-ea43-4a05071fd998"
      },
      "source": [
        "weights = model.get_weights()\n",
        "print(\"weights shapes\",[w.shape for w in weights])"
      ],
      "execution_count": null,
      "outputs": [
        {
          "output_type": "stream",
          "text": [
            "weights shapes [(5503, 5), (109265, 5), (1, 128), (128,), (128, 1), (1,)]\n"
          ],
          "name": "stdout"
        }
      ]
    },
    {
      "cell_type": "code",
      "metadata": {
        "id": "8B_kCtnLDpYL",
        "colab_type": "code",
        "colab": {}
      },
      "source": [
        "\n",
        "# Extract embeddings\n",
        "user_em = weights[1]"
      ],
      "execution_count": null,
      "outputs": []
    },
    {
      "cell_type": "code",
      "metadata": {
        "id": "jjVaGy670-H5",
        "colab_type": "code",
        "colab": {}
      },
      "source": [
        "\n",
        "EPSILON = 1e-07\n",
        "\n",
        "def cosine_similarities(x,embeddings):\n",
        "    dot_pdt = np.dot(embeddings, x)\n",
        "    norms = np.linalg.norm(x) * np.linalg.norm(embeddings,axis = 1)\n",
        "    return dot_pdt / (norms + EPSILON)\n",
        "\n",
        "# Computes top_n most similar items to an idx\n",
        "def most_similar(idx, embeddings,taken,top_n=3):\n",
        "  # cosine similarity between idx and the rest\n",
        "  distance = cosine_similarities(embeddings[idx],embeddings)\n",
        "  order = (-distance).argsort()\n",
        "  order= [x for x in order if x not in taken and x != 5502]\n",
        "  order= order[:top_n]\n",
        "  # return list(zip(order, distance[order]))\n",
        "  return le.inverse_transform(order)"
      ],
      "execution_count": null,
      "outputs": []
    },
    {
      "cell_type": "code",
      "metadata": {
        "id": "WZwPY1vo-6U5",
        "colab_type": "code",
        "colab": {}
      },
      "source": [
        "test['challenge'] = le.transform(test['challenge'])"
      ],
      "execution_count": null,
      "outputs": []
    },
    {
      "cell_type": "code",
      "metadata": {
        "id": "CuL1UFJPGoV5",
        "colab_type": "code",
        "colab": {}
      },
      "source": [
        "unique_chall = test.groupby(['user_id']).agg({'challenge':'unique'}).reset_index().rename(columns={'challenge':'unique_Challenges'})"
      ],
      "execution_count": null,
      "outputs": []
    },
    {
      "cell_type": "code",
      "metadata": {
        "id": "lkZaEVLzFIVR",
        "colab_type": "code",
        "colab": {}
      },
      "source": [
        "recent_challenges = test[test['challenge_sequence']==10].reset_index(drop=True)"
      ],
      "execution_count": null,
      "outputs": []
    },
    {
      "cell_type": "code",
      "metadata": {
        "id": "NBRBbWsgINN5",
        "colab_type": "code",
        "colab": {
          "base_uri": "https://localhost:8080/",
          "height": 34
        },
        "outputId": "fa1f66df-260a-43f0-c65f-dfcf1ae60b4a"
      },
      "source": [
        "recent_challenges.shape"
      ],
      "execution_count": null,
      "outputs": [
        {
          "output_type": "execute_result",
          "data": {
            "text/plain": [
              "(39732, 4)"
            ]
          },
          "metadata": {
            "tags": []
          },
          "execution_count": 26
        }
      ]
    },
    {
      "cell_type": "code",
      "metadata": {
        "id": "tYJTjkYWIcVz",
        "colab_type": "code",
        "colab": {}
      },
      "source": [
        "recent_challenges = pd.merge(recent_challenges, unique_chall, on=['user_id'])"
      ],
      "execution_count": null,
      "outputs": []
    },
    {
      "cell_type": "markdown",
      "metadata": {
        "id": "Mf-TzD3-TmGI",
        "colab_type": "text"
      },
      "source": [
        "https://github.com/PGuti/DeepBeer/blob/master/DEEP_BEERS_BLOG_POST_PART_1.ipynb <br>\n",
        "\n",
        "https://towardsdatascience.com/building-a-book-recommendation-system-using-keras-1fba34180699\n"
      ]
    },
    {
      "cell_type": "code",
      "metadata": {
        "id": "XTBCUsQoAM3Q",
        "colab_type": "code",
        "colab": {
          "base_uri": "https://localhost:8080/",
          "height": 116,
          "referenced_widgets": [
            "c79af2935bca4f3d9226a641f87cf3ed",
            "bd686b629357469bb287dbc383fd12b9",
            "940e2c52a2ec4488ac6018aef55313fc",
            "00788489353b4db29af0031db29450be",
            "e7195b38dc6c48c0a023bae80659d918",
            "717ae05d45354ad6924611cd587c2729",
            "913f88b6fd904ba18368042a95d3a005",
            "a415aac8b6af4e238afce04f381bee3d"
          ]
        },
        "outputId": "47e3380d-8b38-48d4-e944-7e5a3c798b4a"
      },
      "source": [
        "from IPython.core import display as ICD\n",
        "predictions = {}\n",
        "for ix in tqdm_notebook(range(recent_challenges.shape[0])):\n",
        "  req_user = recent_challenges.loc[ix,'user_id']\n",
        "  lat_challenge = recent_challenges.loc[ix,'challenge']\n",
        "  taken = recent_challenges.loc[ix,'unique_Challenges']\n",
        "  similars = most_similar(lat_challenge,book_em_weights,taken, top_n=3)\n",
        "  predictions[req_user] = similars"
      ],
      "execution_count": null,
      "outputs": [
        {
          "output_type": "stream",
          "text": [
            "/usr/local/lib/python3.6/dist-packages/ipykernel_launcher.py:3: TqdmDeprecationWarning: This function will be removed in tqdm==5.0.0\n",
            "Please use `tqdm.notebook.tqdm` instead of `tqdm.tqdm_notebook`\n",
            "  This is separate from the ipykernel package so we can avoid doing imports until\n"
          ],
          "name": "stderr"
        },
        {
          "output_type": "display_data",
          "data": {
            "application/vnd.jupyter.widget-view+json": {
              "model_id": "c79af2935bca4f3d9226a641f87cf3ed",
              "version_minor": 0,
              "version_major": 2
            },
            "text/plain": [
              "HBox(children=(FloatProgress(value=0.0, max=39732.0), HTML(value='')))"
            ]
          },
          "metadata": {
            "tags": []
          }
        },
        {
          "output_type": "stream",
          "text": [
            "\n"
          ],
          "name": "stdout"
        }
      ]
    },
    {
      "cell_type": "code",
      "metadata": {
        "id": "zZLxZtNSK-RE",
        "colab_type": "code",
        "colab": {}
      },
      "source": [
        "# final = pd.DataFrame(predictions)\n",
        "# final = final.T\n",
        "# final.reset_index(inplace=True)\n",
        "# final.columns = ['user','11','12','13']\n",
        "# final = pd.melt(final, id_vars = 'user', value_vars=['11','12','13'])\n",
        "# final['user'] = final['user'].astype(str)\n",
        "# final['user_sequence'] = final['user'] + '_' +final['variable']\n",
        "# final.rename(columns={'value':'challenge'}, inplace=True)\n",
        "# final[['user_sequence','challenge']].to_csv('keras_embedding.csv', index=False)\n"
      ],
      "execution_count": null,
      "outputs": []
    },
    {
      "cell_type": "code",
      "metadata": {
        "id": "kN4pUcC4XXyp",
        "colab_type": "code",
        "colab": {}
      },
      "source": [
        "# final = pd.concat(predictions)"
      ],
      "execution_count": null,
      "outputs": []
    },
    {
      "cell_type": "code",
      "metadata": {
        "id": "4zan_WJOc5tF",
        "colab_type": "code",
        "colab": {}
      },
      "source": [
        "# final.index = [str(i[0])+'_'+str(i[1]+11) for i in final.index]"
      ],
      "execution_count": null,
      "outputs": []
    },
    {
      "cell_type": "code",
      "metadata": {
        "id": "CTY8zXsJdRUF",
        "colab_type": "code",
        "colab": {}
      },
      "source": [
        "# final = final.reset_index()"
      ],
      "execution_count": null,
      "outputs": []
    },
    {
      "cell_type": "code",
      "metadata": {
        "id": "T03mBWdtd8SC",
        "colab_type": "code",
        "colab": {}
      },
      "source": [
        "# final.columns = ['user_sequence','challenge']"
      ],
      "execution_count": null,
      "outputs": []
    },
    {
      "cell_type": "code",
      "metadata": {
        "id": "bXEVO_fzeHzg",
        "colab_type": "code",
        "colab": {}
      },
      "source": [
        "# final.to_csv('embedding.csv', index=False)"
      ],
      "execution_count": null,
      "outputs": []
    },
    {
      "cell_type": "code",
      "metadata": {
        "id": "TedccCiaeL9E",
        "colab_type": "code",
        "colab": {}
      },
      "source": [
        ""
      ],
      "execution_count": null,
      "outputs": []
    }
  ]
}